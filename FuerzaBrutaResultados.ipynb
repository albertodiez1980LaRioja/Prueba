{
  "nbformat": 4,
  "nbformat_minor": 0,
  "metadata": {
    "colab": {
      "name": "FuerzaBrutaResultados.ipynb",
      "provenance": [],
      "authorship_tag": "ABX9TyOz+xQI6m9wjjjkJ2Dh65Fl",
      "include_colab_link": true
    },
    "kernelspec": {
      "name": "python3",
      "display_name": "Python 3"
    }
  },
  "cells": [
    {
      "cell_type": "markdown",
      "metadata": {
        "id": "view-in-github",
        "colab_type": "text"
      },
      "source": [
        "<a href=\"https://colab.research.google.com/github/albertodiez1980LaRioja/Prueba/blob/master/FuerzaBrutaResultados.ipynb\" target=\"_parent\"><img src=\"https://colab.research.google.com/assets/colab-badge.svg\" alt=\"Open In Colab\"/></a>"
      ]
    },
    {
      "cell_type": "code",
      "metadata": {
        "id": "mQoLkNSCxlDj",
        "colab_type": "code",
        "cellView": "form",
        "colab": {}
      },
      "source": [
        "#%%capture\n",
        "#@title Mete un enlace para calcular la edad en la historia:\n",
        "\n",
        "# Carga de librerias\n",
        "from fastai.vision import *\n",
        "import os\n",
        "from google.colab import files\n",
        "\n",
        "# lo ponemos para que use la CPU por defecto\n",
        "defaults.device = torch.device('cpu')\n",
        "# las edades, e ignoramos los warnings\n",
        "edades={'1':'Prehistoria','2':'Edad Antigua','3':'Edad Media','4':'Edad Moderna','5':'Otras cronologías'}\n",
        "import warnings\n",
        "warnings.filterwarnings('ignore')\n",
        "\n",
        "\n",
        "print(\"Cargando los modelos, espere...\")\n",
        "# descargamos y descomprimimos los modelos\n",
        "!wget https://www.dropbox.com/s/p5ufjrl6dgeo75d/MODELOS.zip?dl=0 -O modelos.zip --quiet\n",
        "!unzip -qq modelos.zip \n",
        "\n",
        "learnBruta = load_learner(\"MODELOS/FuerzaBruta\")\n",
        "\n",
        "print(\"Modelos cargados\")\n",
        "\n",
        "ultimoMostrado=''\n",
        "\n",
        "import ipywidgets as widgets\n",
        "from IPython.display import display\n",
        "button = widgets.Button(description=\"Pulsa para clasificar\")\n",
        "output = widgets.Output()\n",
        "texto=widgets.Text(value='Pon aquí la URL', disabled=False)\n",
        "\n",
        "\n",
        "def on_button_clicked(b):\n",
        "  # Display the message within the output widget.\n",
        "  if(b.description=='Pulsa para clasificar'):\n",
        "    with output:\n",
        "      print(\"Espere a que la clasificación sea calculada...\")\n",
        "      #print(texto.value)\n",
        "      #!wget $Enlace -O prueba1.jpg --quiet\n",
        "      !wget $texto.value -O prueba1.jpg >salida.txt &>error.txt\n",
        "      #--quiet\n",
        "      file = open('error.txt','r')\n",
        "      # Leemos el texto completo\n",
        "      text = file.read()\n",
        "      # Cerramos el fichero\n",
        "      file.close()\n",
        "      #print(('failed' in text) or('ERROR' in text))\n",
        "      if not(('failed' in text) or('ERROR' in text)):\n",
        "        pred_class,pred_idx,outputs=learnBruta.predict(open_image('prueba1.jpg'))\n",
        "        print(\"La edad de la imagen \"+str(Enlace)+\" es: \"+edades[str(pred_class)])\n",
        "      else:\n",
        "        print(\"Revisa la URL, no parece que sea correcta\")\n",
        "\n",
        "button.on_click(on_button_clicked)\n",
        "\n",
        "display(texto)\n",
        "display(button, output)\n",
        "\n",
        "\n"
      ],
      "execution_count": 0,
      "outputs": []
    }
  ]
}