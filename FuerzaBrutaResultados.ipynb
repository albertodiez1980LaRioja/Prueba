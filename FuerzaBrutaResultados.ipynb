{
  "nbformat": 4,
  "nbformat_minor": 0,
  "metadata": {
    "colab": {
      "name": "FuerzaBrutaResultados.ipynb",
      "provenance": [],
      "authorship_tag": "ABX9TyPuJ6Pw1MRIVsovlYRPcnea",
      "include_colab_link": true
    },
    "kernelspec": {
      "name": "python3",
      "display_name": "Python 3"
    },
    "widgets": {
      "application/vnd.jupyter.widget-state+json": {
        "b917a5e56c8a4eeea5409deed5328c86": {
          "model_module": "@jupyter-widgets/controls",
          "model_name": "ButtonModel",
          "state": {
            "_view_name": "ButtonView",
            "style": "IPY_MODEL_f74db35453ee48918b14ca7f7b0f4e4b",
            "_dom_classes": [],
            "description": "Click Me!",
            "_model_name": "ButtonModel",
            "button_style": "",
            "_view_module": "@jupyter-widgets/controls",
            "_model_module_version": "1.5.0",
            "tooltip": "",
            "_view_count": null,
            "disabled": false,
            "_view_module_version": "1.5.0",
            "layout": "IPY_MODEL_41be7b0f1286449d8f8b76750647e199",
            "_model_module": "@jupyter-widgets/controls",
            "icon": ""
          }
        },
        "f74db35453ee48918b14ca7f7b0f4e4b": {
          "model_module": "@jupyter-widgets/controls",
          "model_name": "ButtonStyleModel",
          "state": {
            "_view_name": "StyleView",
            "_model_name": "ButtonStyleModel",
            "_view_module": "@jupyter-widgets/base",
            "_model_module_version": "1.5.0",
            "_view_count": null,
            "button_color": null,
            "font_weight": "",
            "_view_module_version": "1.2.0",
            "_model_module": "@jupyter-widgets/controls"
          }
        },
        "41be7b0f1286449d8f8b76750647e199": {
          "model_module": "@jupyter-widgets/base",
          "model_name": "LayoutModel",
          "state": {
            "_view_name": "LayoutView",
            "grid_template_rows": null,
            "right": null,
            "justify_content": null,
            "_view_module": "@jupyter-widgets/base",
            "overflow": null,
            "_model_module_version": "1.2.0",
            "_view_count": null,
            "flex_flow": null,
            "width": null,
            "min_width": null,
            "border": null,
            "align_items": null,
            "bottom": null,
            "_model_module": "@jupyter-widgets/base",
            "top": null,
            "grid_column": null,
            "overflow_y": null,
            "overflow_x": null,
            "grid_auto_flow": null,
            "grid_area": null,
            "grid_template_columns": null,
            "flex": null,
            "_model_name": "LayoutModel",
            "justify_items": null,
            "grid_row": null,
            "max_height": null,
            "align_content": null,
            "visibility": null,
            "align_self": null,
            "height": null,
            "min_height": null,
            "padding": null,
            "grid_auto_rows": null,
            "grid_gap": null,
            "max_width": null,
            "order": null,
            "_view_module_version": "1.2.0",
            "grid_template_areas": null,
            "object_position": null,
            "object_fit": null,
            "grid_auto_columns": null,
            "margin": null,
            "display": null,
            "left": null
          }
        },
        "74de35d5329146429ad9588415aece71": {
          "model_module": "@jupyter-widgets/output",
          "model_name": "OutputModel",
          "state": {
            "_view_name": "OutputView",
            "msg_id": "",
            "_dom_classes": [],
            "_model_name": "OutputModel",
            "outputs": [
              {
                "output_type": "stream",
                "metadata": {
                  "tags": []
                },
                "text": "Prehistoria\n",
                "stream": "stdout"
              },
              {
                "output_type": "stream",
                "metadata": {
                  "tags": []
                },
                "text": "Prehistoria\n",
                "stream": "stdout"
              }
            ],
            "_view_module": "@jupyter-widgets/output",
            "_model_module_version": "1.0.0",
            "_view_count": null,
            "_view_module_version": "1.0.0",
            "layout": "IPY_MODEL_1ff1461705f1475293a9a4050b4a3447",
            "_model_module": "@jupyter-widgets/output"
          }
        },
        "1ff1461705f1475293a9a4050b4a3447": {
          "model_module": "@jupyter-widgets/base",
          "model_name": "LayoutModel",
          "state": {
            "_view_name": "LayoutView",
            "grid_template_rows": null,
            "right": null,
            "justify_content": null,
            "_view_module": "@jupyter-widgets/base",
            "overflow": null,
            "_model_module_version": "1.2.0",
            "_view_count": null,
            "flex_flow": null,
            "width": null,
            "min_width": null,
            "border": null,
            "align_items": null,
            "bottom": null,
            "_model_module": "@jupyter-widgets/base",
            "top": null,
            "grid_column": null,
            "overflow_y": null,
            "overflow_x": null,
            "grid_auto_flow": null,
            "grid_area": null,
            "grid_template_columns": null,
            "flex": null,
            "_model_name": "LayoutModel",
            "justify_items": null,
            "grid_row": null,
            "max_height": null,
            "align_content": null,
            "visibility": null,
            "align_self": null,
            "height": null,
            "min_height": null,
            "padding": null,
            "grid_auto_rows": null,
            "grid_gap": null,
            "max_width": null,
            "order": null,
            "_view_module_version": "1.2.0",
            "grid_template_areas": null,
            "object_position": null,
            "object_fit": null,
            "grid_auto_columns": null,
            "margin": null,
            "display": null,
            "left": null
          }
        }
      }
    }
  },
  "cells": [
    {
      "cell_type": "markdown",
      "metadata": {
        "id": "view-in-github",
        "colab_type": "text"
      },
      "source": [
        "<a href=\"https://colab.research.google.com/github/albertodiez1980LaRioja/Prueba/blob/master/FuerzaBrutaResultados.ipynb\" target=\"_parent\"><img src=\"https://colab.research.google.com/assets/colab-badge.svg\" alt=\"Open In Colab\"/></a>"
      ]
    },
    {
      "cell_type": "code",
      "metadata": {
        "id": "mJaDZqVExXoJ",
        "colab_type": "code",
        "colab": {}
      },
      "source": [
        "\n",
        "# lo ponemos para que use la CPU por defecto\n",
        "defaults.device = torch.device('cpu')\n"
      ],
      "execution_count": 0,
      "outputs": []
    },
    {
      "cell_type": "code",
      "metadata": {
        "id": "MNxZ309e16pJ",
        "colab_type": "code",
        "colab": {}
      },
      "source": [
        "edades={'1':'Prehistoria','2':'Edad Antigua','3':'Edad Media','4':'Edad Moderna','5':'Otras cronologías'}\n",
        "import warnings\n",
        "warnings.filterwarnings('ignore')"
      ],
      "execution_count": 0,
      "outputs": []
    },
    {
      "cell_type": "code",
      "metadata": {
        "id": "mQoLkNSCxlDj",
        "colab_type": "code",
        "cellView": "both",
        "outputId": "1f37365c-2e3b-4750-8910-2174fbbfe69d",
        "colab": {
          "base_uri": "https://localhost:8080/",
          "height": 120,
          "referenced_widgets": [
            "b917a5e56c8a4eeea5409deed5328c86",
            "f74db35453ee48918b14ca7f7b0f4e4b",
            "41be7b0f1286449d8f8b76750647e199",
            "74de35d5329146429ad9588415aece71",
            "1ff1461705f1475293a9a4050b4a3447"
          ]
        }
      },
      "source": [
        "# Carga de librerias\n",
        "from fastai.vision import *\n",
        "import os\n",
        "from google.colab import files\n",
        "\n",
        "# descargamos y descomprimimos los modelos\n",
        "!wget https://www.dropbox.com/s/p5ufjrl6dgeo75d/MODELOS.zip?dl=0 -O modelos.zip --quiet\n",
        "!unzip modelos.zip\n",
        "\n",
        "learnBruta = load_learner(\"MODELOS/FuerzaBruta\")\n",
        "\n",
        "import ipywidgets as widgets\n",
        "from IPython.display import display\n",
        "button = widgets.Button(description=\"Click Me!\")\n",
        "output = widgets.Output()\n",
        "\n",
        "def on_button_clicked(b):\n",
        "  # Display the message within the output widget.\n",
        "  with output:\n",
        "    !wget $enlace -O prueba1.jpg --quiet\n",
        "    pred_class,pred_idx,outputs=learnBruta.predict(open_image('prueba1.jpg'))\n",
        "    print(edades[str(pred_class)])\n",
        "\n",
        "button.on_click(on_button_clicked)\n",
        "display(button, output)\n",
        "\n",
        "#%%capture\n",
        "#@title Mete un enlace para calcular la edad en la historia:\n",
        "\n",
        "#enlace = 'https://www.dropbox.com/s/rhau5yzrr33a4v4/5061.jpg?dl=0' #@param {type:\"string\"}\n",
        "Enlace = 'http://www.museodelarioja.es/wp-content/uploads/+-Campaniforme-1030x686.jpg' #@param {type:\"string\"}\n",
        "\n",
        "\n",
        "\n"
      ],
      "execution_count": 10,
      "outputs": [
        {
          "output_type": "stream",
          "text": [
            "Archive:  modelos.zip\n",
            "replace MODELOS/.directory? [y]es, [n]o, [A]ll, [N]one, [r]ename: N\n"
          ],
          "name": "stdout"
        },
        {
          "output_type": "display_data",
          "data": {
            "application/vnd.jupyter.widget-view+json": {
              "model_id": "b917a5e56c8a4eeea5409deed5328c86",
              "version_minor": 0,
              "version_major": 2
            },
            "text/plain": [
              "Button(description='Click Me!', style=ButtonStyle())"
            ]
          },
          "metadata": {
            "tags": []
          }
        },
        {
          "output_type": "display_data",
          "data": {
            "application/vnd.jupyter.widget-view+json": {
              "model_id": "74de35d5329146429ad9588415aece71",
              "version_minor": 0,
              "version_major": 2
            },
            "text/plain": [
              "Output()"
            ]
          },
          "metadata": {
            "tags": []
          }
        }
      ]
    },
    {
      "cell_type": "code",
      "metadata": {
        "colab_type": "code",
        "cellView": "form",
        "outputId": "263f3b3a-82a9-4865-c366-db8e4e7a4d65",
        "id": "HZiwREjM4R4J",
        "colab": {
          "base_uri": "https://localhost:8080/",
          "height": 35
        }
      },
      "source": [
        "#%%capture\n",
        "#@title Mete un enlace para calcular la edad en la historia\n",
        "\n",
        "enlace = 'https://www.dropbox.com/s/h8zp7pfn4x7mmts/4877.jpg?dl=0' #@param {type:\"string\"}\n",
        "\n",
        "\n",
        "!wget $enlace -O prueba1.jpg --quiet\n",
        "\n",
        "pred_class,pred_idx,outputs=learn.predict(open_image('prueba1.jpg'))\n",
        "print(edades[str(pred_class)])\n",
        "#str(pred_class)+str(\"  \")\n",
        "#str(pred_class)"
      ],
      "execution_count": 0,
      "outputs": [
        {
          "output_type": "stream",
          "text": [
            "Edad Antigua\n"
          ],
          "name": "stdout"
        }
      ]
    },
    {
      "cell_type": "code",
      "metadata": {
        "colab_type": "code",
        "cellView": "form",
        "outputId": "edb1c46d-c36c-4eb0-9eed-5519facd4ccf",
        "id": "zYIrAPqo4Ueo",
        "colab": {
          "base_uri": "https://localhost:8080/",
          "height": 35
        }
      },
      "source": [
        "#%%capture\n",
        "#@title Mete un enlace para calcular la edad en la historia\n",
        "\n",
        "enlace = 'https://www.dropbox.com/s/rhau5yzrr33a4v4/5061.jpg?dl=0' #@param {type:\"string\"}\n",
        "\n",
        "\n",
        "!wget $enlace -O prueba1.jpg --quiet\n",
        "\n",
        "pred_class,pred_idx,outputs=learn.predict(open_image('prueba1.jpg'))\n",
        "print(edades[str(pred_class)])\n",
        "#str(pred_class)+str(\"  \")\n",
        "#str(pred_class)"
      ],
      "execution_count": 0,
      "outputs": [
        {
          "output_type": "stream",
          "text": [
            "Prehistoria\n"
          ],
          "name": "stdout"
        }
      ]
    },
    {
      "cell_type": "code",
      "metadata": {
        "colab_type": "code",
        "cellView": "form",
        "outputId": "22a11931-09b9-490b-fae4-682f2d1f3c5b",
        "id": "u8piwE5f4UpE",
        "colab": {
          "base_uri": "https://localhost:8080/",
          "height": 35
        }
      },
      "source": [
        "#%%capture\n",
        "#@title Mete un enlace para calcular la edad en la historia\n",
        "\n",
        "enlace = 'https://www.dropbox.com/s/7dyad7ha1vvv2tj/6590.jpg?dl=0' #@param {type:\"string\"}\n",
        "\n",
        "\n",
        "!wget $enlace -O prueba1.jpg --quiet\n",
        "\n",
        "pred_class,pred_idx,outputs=learn.predict(open_image('prueba1.jpg'))\n",
        "print(edades[str(pred_class)])\n",
        "#str(pred_class)+str(\"  \")\n",
        "#str(pred_class)"
      ],
      "execution_count": 0,
      "outputs": [
        {
          "output_type": "stream",
          "text": [
            "Edad Media\n"
          ],
          "name": "stdout"
        }
      ]
    },
    {
      "cell_type": "code",
      "metadata": {
        "colab_type": "code",
        "cellView": "form",
        "outputId": "d00e5212-4d1e-419f-c9e8-da32355feba0",
        "id": "wwfD_RhU4UtP",
        "colab": {
          "base_uri": "https://localhost:8080/",
          "height": 35
        }
      },
      "source": [
        "#%%capture\n",
        "#@title Mete un enlace para calcular la edad en la historia\n",
        "\n",
        "enlace = 'https://www.dropbox.com/s/ek9gg9vka5haxkf/5118.jpg?dl=0' #@param {type:\"string\"}\n",
        "\n",
        "\n",
        "!wget $enlace -O prueba1.jpg --quiet\n",
        "\n",
        "pred_class,pred_idx,outputs=learn.predict(open_image('prueba1.jpg'))\n",
        "print(edades[str(pred_class)])\n",
        "#str(pred_class)+str(\"  \")\n",
        "#str(pred_class)"
      ],
      "execution_count": 0,
      "outputs": [
        {
          "output_type": "stream",
          "text": [
            "Edad Moderna\n"
          ],
          "name": "stdout"
        }
      ]
    },
    {
      "cell_type": "code",
      "metadata": {
        "colab_type": "code",
        "cellView": "form",
        "outputId": "15417d69-f4e3-4ab7-e192-c65d0cfa0c55",
        "id": "X8-0PAGR5CQD",
        "colab": {
          "base_uri": "https://localhost:8080/",
          "height": 35
        }
      },
      "source": [
        "#%%capture\n",
        "#@title Mete un enlace para calcular la edad en la historia\n",
        "\n",
        "enlace = 'https://www.dropbox.com/s/pggmnpalzmryugm/5086.jpg?dl=0' #@param {type:\"string\"}\n",
        "\n",
        "\n",
        "!wget $enlace -O prueba1.jpg --quiet\n",
        "\n",
        "pred_class,pred_idx,outputs=learn.predict(open_image('prueba1.jpg'))\n",
        "print(edades[str(pred_class)])\n",
        "#str(pred_class)+str(\"  \")\n",
        "#str(pred_class)"
      ],
      "execution_count": 0,
      "outputs": [
        {
          "output_type": "stream",
          "text": [
            "Otras cronologías\n"
          ],
          "name": "stdout"
        }
      ]
    },
    {
      "cell_type": "code",
      "metadata": {
        "colab_type": "code",
        "cellView": "form",
        "outputId": "8b2c9d31-e9c8-4049-b6e2-fc56607c9eb4",
        "id": "3WNV4LyG5CtB",
        "colab": {
          "base_uri": "https://localhost:8080/",
          "height": 35
        }
      },
      "source": [
        "#%%capture\n",
        "#@title Mete un enlace para calcular la edad en la historia\n",
        "\n",
        "enlace = 'http://www.museodelarioja.es/wp-content/uploads/+-Campaniforme-1030x686.jpg' #@param {type:\"string\"}\n",
        "\n",
        "\n",
        "!wget $enlace -O prueba1.jpg -q --quiet\n",
        "\n",
        "pred_class,pred_idx,outputs=learn.predict(open_image('prueba1.jpg'))\n",
        "print(edades[str(pred_class)])\n",
        "#str(pred_class)+str(\"  \")\n",
        "#str(pred_class)"
      ],
      "execution_count": 7,
      "outputs": [
        {
          "output_type": "stream",
          "text": [
            "Edad Antigua\n"
          ],
          "name": "stdout"
        }
      ]
    }
  ]
}