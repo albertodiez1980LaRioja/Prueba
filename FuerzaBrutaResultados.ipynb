{
  "nbformat": 4,
  "nbformat_minor": 0,
  "metadata": {
    "colab": {
      "name": "FuerzaBrutaResultados.ipynb",
      "provenance": [],
      "authorship_tag": "ABX9TyMkFUuJbGMgkasvJZVIASw1",
      "include_colab_link": true
    },
    "kernelspec": {
      "name": "python3",
      "display_name": "Python 3"
    },
    "widgets": {
      "application/vnd.jupyter.widget-state+json": {
        "3021e87c6f994fc0af078cec6563d4e7": {
          "model_module": "@jupyter-widgets/controls",
          "model_name": "TextModel",
          "state": {
            "_view_name": "TextView",
            "style": "IPY_MODEL_d84c412fb0f34f9e8ac8732974349a69",
            "_dom_classes": [],
            "description": "",
            "_model_name": "TextModel",
            "placeholder": "​",
            "_view_module": "@jupyter-widgets/controls",
            "_model_module_version": "1.5.0",
            "value": "http://www.museodelarioja.es/wp-content/uploads/Puntas-de-flecha-.jpg",
            "_view_count": null,
            "disabled": false,
            "_view_module_version": "1.5.0",
            "continuous_update": true,
            "description_tooltip": null,
            "_model_module": "@jupyter-widgets/controls",
            "layout": "IPY_MODEL_95a9cb9e167c463fb1b38c507f5e2cfb"
          }
        },
        "d84c412fb0f34f9e8ac8732974349a69": {
          "model_module": "@jupyter-widgets/controls",
          "model_name": "DescriptionStyleModel",
          "state": {
            "_view_name": "StyleView",
            "_model_name": "DescriptionStyleModel",
            "description_width": "",
            "_view_module": "@jupyter-widgets/base",
            "_model_module_version": "1.5.0",
            "_view_count": null,
            "_view_module_version": "1.2.0",
            "_model_module": "@jupyter-widgets/controls"
          }
        },
        "95a9cb9e167c463fb1b38c507f5e2cfb": {
          "model_module": "@jupyter-widgets/base",
          "model_name": "LayoutModel",
          "state": {
            "_view_name": "LayoutView",
            "grid_template_rows": null,
            "right": null,
            "justify_content": null,
            "_view_module": "@jupyter-widgets/base",
            "overflow": null,
            "_model_module_version": "1.2.0",
            "_view_count": null,
            "flex_flow": null,
            "width": null,
            "min_width": null,
            "border": null,
            "align_items": null,
            "bottom": null,
            "_model_module": "@jupyter-widgets/base",
            "top": null,
            "grid_column": null,
            "overflow_y": null,
            "overflow_x": null,
            "grid_auto_flow": null,
            "grid_area": null,
            "grid_template_columns": null,
            "flex": null,
            "_model_name": "LayoutModel",
            "justify_items": null,
            "grid_row": null,
            "max_height": null,
            "align_content": null,
            "visibility": null,
            "align_self": null,
            "height": null,
            "min_height": null,
            "padding": null,
            "grid_auto_rows": null,
            "grid_gap": null,
            "max_width": null,
            "order": null,
            "_view_module_version": "1.2.0",
            "grid_template_areas": null,
            "object_position": null,
            "object_fit": null,
            "grid_auto_columns": null,
            "margin": null,
            "display": null,
            "left": null
          }
        },
        "f490f86d0a704a3f9c355b8cdabe4a7f": {
          "model_module": "@jupyter-widgets/controls",
          "model_name": "ButtonModel",
          "state": {
            "_view_name": "ButtonView",
            "style": "IPY_MODEL_d893803b0b9e4d978457f97967d9ec3f",
            "_dom_classes": [],
            "description": "Pulsa para clasificar",
            "_model_name": "ButtonModel",
            "button_style": "",
            "_view_module": "@jupyter-widgets/controls",
            "_model_module_version": "1.5.0",
            "tooltip": "",
            "_view_count": null,
            "disabled": false,
            "_view_module_version": "1.5.0",
            "layout": "IPY_MODEL_ed9e63efc2db42b7985fd218be534b8b",
            "_model_module": "@jupyter-widgets/controls",
            "icon": ""
          }
        },
        "d893803b0b9e4d978457f97967d9ec3f": {
          "model_module": "@jupyter-widgets/controls",
          "model_name": "ButtonStyleModel",
          "state": {
            "_view_name": "StyleView",
            "_model_name": "ButtonStyleModel",
            "_view_module": "@jupyter-widgets/base",
            "_model_module_version": "1.5.0",
            "_view_count": null,
            "button_color": null,
            "font_weight": "",
            "_view_module_version": "1.2.0",
            "_model_module": "@jupyter-widgets/controls"
          }
        },
        "ed9e63efc2db42b7985fd218be534b8b": {
          "model_module": "@jupyter-widgets/base",
          "model_name": "LayoutModel",
          "state": {
            "_view_name": "LayoutView",
            "grid_template_rows": null,
            "right": null,
            "justify_content": null,
            "_view_module": "@jupyter-widgets/base",
            "overflow": null,
            "_model_module_version": "1.2.0",
            "_view_count": null,
            "flex_flow": null,
            "width": null,
            "min_width": null,
            "border": null,
            "align_items": null,
            "bottom": null,
            "_model_module": "@jupyter-widgets/base",
            "top": null,
            "grid_column": null,
            "overflow_y": null,
            "overflow_x": null,
            "grid_auto_flow": null,
            "grid_area": null,
            "grid_template_columns": null,
            "flex": null,
            "_model_name": "LayoutModel",
            "justify_items": null,
            "grid_row": null,
            "max_height": null,
            "align_content": null,
            "visibility": null,
            "align_self": null,
            "height": null,
            "min_height": null,
            "padding": null,
            "grid_auto_rows": null,
            "grid_gap": null,
            "max_width": null,
            "order": null,
            "_view_module_version": "1.2.0",
            "grid_template_areas": null,
            "object_position": null,
            "object_fit": null,
            "grid_auto_columns": null,
            "margin": null,
            "display": null,
            "left": null
          }
        },
        "4479f35499c24437a336a04f87cdea2f": {
          "model_module": "@jupyter-widgets/output",
          "model_name": "OutputModel",
          "state": {
            "_view_name": "OutputView",
            "msg_id": "",
            "_dom_classes": [],
            "_model_name": "OutputModel",
            "outputs": [
              {
                "output_type": "stream",
                "metadata": {
                  "tags": []
                },
                "text": "Espere a que la clasificación sea calculada...\n",
                "stream": "stdout"
              },
              {
                "output_type": "stream",
                "metadata": {
                  "tags": []
                },
                "text": "La edad de la imagen http://www.museodelarioja.es/wp-content/uploads/Maternidad-686x1030.jpg es: Edad Moderna\n",
                "stream": "stdout"
              },
              {
                "output_type": "stream",
                "metadata": {
                  "tags": []
                },
                "text": "Espere a que la clasificación sea calculada...\n",
                "stream": "stdout"
              },
              {
                "output_type": "stream",
                "metadata": {
                  "tags": []
                },
                "text": "La edad de la imagen http://www.museodelarioja.es/wp-content/uploads/Maternidad-686x1030.jpg es: Edad Moderna\n",
                "stream": "stdout"
              }
            ],
            "_view_module": "@jupyter-widgets/output",
            "_model_module_version": "1.0.0",
            "_view_count": null,
            "_view_module_version": "1.0.0",
            "layout": "IPY_MODEL_16276f18d1744a7499b41edf6affd774",
            "_model_module": "@jupyter-widgets/output"
          }
        },
        "16276f18d1744a7499b41edf6affd774": {
          "model_module": "@jupyter-widgets/base",
          "model_name": "LayoutModel",
          "state": {
            "_view_name": "LayoutView",
            "grid_template_rows": null,
            "right": null,
            "justify_content": null,
            "_view_module": "@jupyter-widgets/base",
            "overflow": null,
            "_model_module_version": "1.2.0",
            "_view_count": null,
            "flex_flow": null,
            "width": null,
            "min_width": null,
            "border": null,
            "align_items": null,
            "bottom": null,
            "_model_module": "@jupyter-widgets/base",
            "top": null,
            "grid_column": null,
            "overflow_y": null,
            "overflow_x": null,
            "grid_auto_flow": null,
            "grid_area": null,
            "grid_template_columns": null,
            "flex": null,
            "_model_name": "LayoutModel",
            "justify_items": null,
            "grid_row": null,
            "max_height": null,
            "align_content": null,
            "visibility": null,
            "align_self": null,
            "height": null,
            "min_height": null,
            "padding": null,
            "grid_auto_rows": null,
            "grid_gap": null,
            "max_width": null,
            "order": null,
            "_view_module_version": "1.2.0",
            "grid_template_areas": null,
            "object_position": null,
            "object_fit": null,
            "grid_auto_columns": null,
            "margin": null,
            "display": null,
            "left": null
          }
        }
      }
    }
  },
  "cells": [
    {
      "cell_type": "markdown",
      "metadata": {
        "id": "view-in-github",
        "colab_type": "text"
      },
      "source": [
        "<a href=\"https://colab.research.google.com/github/albertodiez1980LaRioja/Prueba/blob/master/FuerzaBrutaResultados.ipynb\" target=\"_parent\"><img src=\"https://colab.research.google.com/assets/colab-badge.svg\" alt=\"Open In Colab\"/></a>"
      ]
    },
    {
      "cell_type": "code",
      "metadata": {
        "id": "mQoLkNSCxlDj",
        "colab_type": "code",
        "cellView": "both",
        "outputId": "54aaf4ee-001f-493c-e555-bbfc19b6a1ce",
        "colab": {
          "base_uri": "https://localhost:8080/",
          "height": 205,
          "referenced_widgets": [
            "3021e87c6f994fc0af078cec6563d4e7",
            "d84c412fb0f34f9e8ac8732974349a69",
            "95a9cb9e167c463fb1b38c507f5e2cfb",
            "f490f86d0a704a3f9c355b8cdabe4a7f",
            "d893803b0b9e4d978457f97967d9ec3f",
            "ed9e63efc2db42b7985fd218be534b8b",
            "4479f35499c24437a336a04f87cdea2f",
            "16276f18d1744a7499b41edf6affd774"
          ]
        }
      },
      "source": [
        "#%%capture\n",
        "#@title Mete un enlace para calcular la edad en la historia:\n",
        "\n",
        "# Carga de librerias\n",
        "from fastai.vision import *\n",
        "import os\n",
        "from google.colab import files\n",
        "\n",
        "# lo ponemos para que use la CPU por defecto\n",
        "defaults.device = torch.device('cpu')\n",
        "# las edades, e ignoramos los warnings\n",
        "edades={'1':'Prehistoria','2':'Edad Antigua','3':'Edad Media','4':'Edad Moderna','5':'Otras cronologías'}\n",
        "import warnings\n",
        "warnings.filterwarnings('ignore')\n",
        "\n",
        "\n",
        "print(\"Cargando los modelos, espere...\")\n",
        "# descargamos y descomprimimos los modelos\n",
        "!wget https://www.dropbox.com/s/p5ufjrl6dgeo75d/MODELOS.zip?dl=0 -O modelos.zip --quiet\n",
        "!unzip -qq modelos.zip \n",
        "\n",
        "learnBruta = load_learner(\"MODELOS/FuerzaBruta\")\n",
        "\n",
        "print(\"Modelos cargados\")\n",
        "\n",
        "ultimoMostrado=''\n",
        "\n",
        "import ipywidgets as widgets\n",
        "from IPython.display import display\n",
        "button = widgets.Button(description=\"Pulsa para clasificar\")\n",
        "output = widgets.Output()\n",
        "texto=widgets.Text(value='Pon aquí la URL', disabled=False)\n",
        "\n",
        "\n",
        "def on_button_clicked(b):\n",
        "  # Display the message within the output widget.\n",
        "  if(b.description=='Pulsa para clasificar'):\n",
        "    with output:\n",
        "      print(\"Espere a que la clasificación sea calculada...\")\n",
        "      #print(texto.value)\n",
        "      #!wget $Enlace -O prueba1.jpg --quiet\n",
        "      !wget $texto.value -O prueba1.jpg --quiet\n",
        "      pred_class,pred_idx,outputs=learnBruta.predict(open_image('prueba1.jpg'))\n",
        "      \n",
        "      if(pred_class):\n",
        "        print(\"La edad de la imagen \"+str(Enlace)+\" es: \"+edades[str(pred_class)])\n",
        "\n",
        "button.on_click(on_button_clicked)\n",
        "\n",
        "display(texto)\n",
        "display(button, output)\n",
        "\n",
        "\n",
        "#enlace = 'https://www.dropbox.com/s/rhau5yzrr33a4v4/5061.jpg?dl=0' #@param {type:\"string\"}\n",
        "Enlace = 'http://www.museodelarioja.es/wp-content/uploads/Maternidad-686x1030.jpg' #@param {type:\"string\"}\n",
        "\n",
        "\n",
        "\n"
      ],
      "execution_count": 22,
      "outputs": [
        {
          "output_type": "stream",
          "text": [
            "Cargando los modelos, espere...\n",
            "replace MODELOS/.directory? [y]es, [n]o, [A]ll, [N]one, [r]ename: N\n",
            "Modelos cargados\n"
          ],
          "name": "stdout"
        },
        {
          "output_type": "display_data",
          "data": {
            "application/vnd.jupyter.widget-view+json": {
              "model_id": "3021e87c6f994fc0af078cec6563d4e7",
              "version_minor": 0,
              "version_major": 2
            },
            "text/plain": [
              "Text(value='Pon aquí la URL')"
            ]
          },
          "metadata": {
            "tags": []
          }
        },
        {
          "output_type": "display_data",
          "data": {
            "application/vnd.jupyter.widget-view+json": {
              "model_id": "f490f86d0a704a3f9c355b8cdabe4a7f",
              "version_minor": 0,
              "version_major": 2
            },
            "text/plain": [
              "Button(description='Pulsa para clasificar', style=ButtonStyle())"
            ]
          },
          "metadata": {
            "tags": []
          }
        },
        {
          "output_type": "display_data",
          "data": {
            "application/vnd.jupyter.widget-view+json": {
              "model_id": "4479f35499c24437a336a04f87cdea2f",
              "version_minor": 0,
              "version_major": 2
            },
            "text/plain": [
              "Output()"
            ]
          },
          "metadata": {
            "tags": []
          }
        }
      ]
    }
  ]
}