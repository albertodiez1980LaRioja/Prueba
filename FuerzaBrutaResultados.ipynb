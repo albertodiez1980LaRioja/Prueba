{
  "nbformat": 4,
  "nbformat_minor": 0,
  "metadata": {
    "colab": {
      "name": "FuerzaBrutaResultados.ipynb",
      "provenance": [],
      "authorship_tag": "ABX9TyPcKPljWaNJ3FN+QPzLgSlQ",
      "include_colab_link": true
    },
    "kernelspec": {
      "name": "python3",
      "display_name": "Python 3"
    },
    "widgets": {
      "application/vnd.jupyter.widget-state+json": {
        "c91963dcd3ac4fa198b6d98a4928b442": {
          "model_module": "@jupyter-widgets/controls",
          "model_name": "TextModel",
          "state": {
            "_view_name": "TextView",
            "style": "IPY_MODEL_456845f315a249adaef0b95bfc326041",
            "_dom_classes": [],
            "description": "",
            "_model_name": "TextModel",
            "placeholder": "​",
            "_view_module": "@jupyter-widgets/controls",
            "_model_module_version": "1.5.0",
            "value": "http://www.museodelarioja.es/wp-content/uploads/Maternidad-686x1030.jpg",
            "_view_count": null,
            "disabled": false,
            "_view_module_version": "1.5.0",
            "continuous_update": true,
            "description_tooltip": null,
            "_model_module": "@jupyter-widgets/controls",
            "layout": "IPY_MODEL_74aed110095444e49eeb3ee5876b2635"
          }
        },
        "456845f315a249adaef0b95bfc326041": {
          "model_module": "@jupyter-widgets/controls",
          "model_name": "DescriptionStyleModel",
          "state": {
            "_view_name": "StyleView",
            "_model_name": "DescriptionStyleModel",
            "description_width": "",
            "_view_module": "@jupyter-widgets/base",
            "_model_module_version": "1.5.0",
            "_view_count": null,
            "_view_module_version": "1.2.0",
            "_model_module": "@jupyter-widgets/controls"
          }
        },
        "74aed110095444e49eeb3ee5876b2635": {
          "model_module": "@jupyter-widgets/base",
          "model_name": "LayoutModel",
          "state": {
            "_view_name": "LayoutView",
            "grid_template_rows": null,
            "right": null,
            "justify_content": null,
            "_view_module": "@jupyter-widgets/base",
            "overflow": null,
            "_model_module_version": "1.2.0",
            "_view_count": null,
            "flex_flow": null,
            "width": null,
            "min_width": null,
            "border": null,
            "align_items": null,
            "bottom": null,
            "_model_module": "@jupyter-widgets/base",
            "top": null,
            "grid_column": null,
            "overflow_y": null,
            "overflow_x": null,
            "grid_auto_flow": null,
            "grid_area": null,
            "grid_template_columns": null,
            "flex": null,
            "_model_name": "LayoutModel",
            "justify_items": null,
            "grid_row": null,
            "max_height": null,
            "align_content": null,
            "visibility": null,
            "align_self": null,
            "height": null,
            "min_height": null,
            "padding": null,
            "grid_auto_rows": null,
            "grid_gap": null,
            "max_width": null,
            "order": null,
            "_view_module_version": "1.2.0",
            "grid_template_areas": null,
            "object_position": null,
            "object_fit": null,
            "grid_auto_columns": null,
            "margin": null,
            "display": null,
            "left": null
          }
        },
        "bde644ab09374563a1bcca52a2bd00fc": {
          "model_module": "@jupyter-widgets/controls",
          "model_name": "ButtonModel",
          "state": {
            "_view_name": "ButtonView",
            "style": "IPY_MODEL_c469dbbafa5e405daac77033348afa9c",
            "_dom_classes": [],
            "description": "Pulsa para clasificar",
            "_model_name": "ButtonModel",
            "button_style": "",
            "_view_module": "@jupyter-widgets/controls",
            "_model_module_version": "1.5.0",
            "tooltip": "",
            "_view_count": null,
            "disabled": false,
            "_view_module_version": "1.5.0",
            "layout": "IPY_MODEL_f856d4cce1bb474db2e1ab910937db13",
            "_model_module": "@jupyter-widgets/controls",
            "icon": ""
          }
        },
        "c469dbbafa5e405daac77033348afa9c": {
          "model_module": "@jupyter-widgets/controls",
          "model_name": "ButtonStyleModel",
          "state": {
            "_view_name": "StyleView",
            "_model_name": "ButtonStyleModel",
            "_view_module": "@jupyter-widgets/base",
            "_model_module_version": "1.5.0",
            "_view_count": null,
            "button_color": null,
            "font_weight": "",
            "_view_module_version": "1.2.0",
            "_model_module": "@jupyter-widgets/controls"
          }
        },
        "f856d4cce1bb474db2e1ab910937db13": {
          "model_module": "@jupyter-widgets/base",
          "model_name": "LayoutModel",
          "state": {
            "_view_name": "LayoutView",
            "grid_template_rows": null,
            "right": null,
            "justify_content": null,
            "_view_module": "@jupyter-widgets/base",
            "overflow": null,
            "_model_module_version": "1.2.0",
            "_view_count": null,
            "flex_flow": null,
            "width": null,
            "min_width": null,
            "border": null,
            "align_items": null,
            "bottom": null,
            "_model_module": "@jupyter-widgets/base",
            "top": null,
            "grid_column": null,
            "overflow_y": null,
            "overflow_x": null,
            "grid_auto_flow": null,
            "grid_area": null,
            "grid_template_columns": null,
            "flex": null,
            "_model_name": "LayoutModel",
            "justify_items": null,
            "grid_row": null,
            "max_height": null,
            "align_content": null,
            "visibility": null,
            "align_self": null,
            "height": null,
            "min_height": null,
            "padding": null,
            "grid_auto_rows": null,
            "grid_gap": null,
            "max_width": null,
            "order": null,
            "_view_module_version": "1.2.0",
            "grid_template_areas": null,
            "object_position": null,
            "object_fit": null,
            "grid_auto_columns": null,
            "margin": null,
            "display": null,
            "left": null
          }
        },
        "fa780537532740aca0a55dfa7c326575": {
          "model_module": "@jupyter-widgets/output",
          "model_name": "OutputModel",
          "state": {
            "_view_name": "OutputView",
            "msg_id": "",
            "_dom_classes": [],
            "_model_name": "OutputModel",
            "outputs": [
              {
                "output_type": "stream",
                "metadata": {
                  "tags": []
                },
                "text": "Espere a que la clasificación sea calculada...\n",
                "stream": "stdout"
              },
              {
                "output_type": "stream",
                "metadata": {
                  "tags": []
                },
                "text": "Revisa la URL, no parece que sea correcta\n",
                "stream": "stdout"
              },
              {
                "output_type": "stream",
                "metadata": {
                  "tags": []
                },
                "text": "Espere a que la clasificación sea calculada...\n",
                "stream": "stdout"
              },
              {
                "output_type": "stream",
                "metadata": {
                  "tags": []
                },
                "text": "La edad de la imagen http://www.museodelarioja.es/wp-content/uploads/DesnudoFemenino-751x1030.jpg es: Otras cronologías\n",
                "stream": "stdout"
              },
              {
                "output_type": "stream",
                "metadata": {
                  "tags": []
                },
                "text": "Espere a que la clasificación sea calculada...\n",
                "stream": "stdout"
              },
              {
                "output_type": "stream",
                "metadata": {
                  "tags": []
                },
                "text": "Revisa la URL, no parece que sea correcta\n",
                "stream": "stdout"
              },
              {
                "output_type": "stream",
                "metadata": {
                  "tags": []
                },
                "text": "Espere a que la clasificación sea calculada...\n",
                "stream": "stdout"
              },
              {
                "output_type": "stream",
                "metadata": {
                  "tags": []
                },
                "text": "La edad de la imagen http://www.museodelarioja.es/wp-content/uploads/DesnudoFemenino-751x1030.jpg es: Otras cronologías\n",
                "stream": "stdout"
              },
              {
                "output_type": "stream",
                "metadata": {
                  "tags": []
                },
                "text": "Espere a que la clasificación sea calculada...\n",
                "stream": "stdout"
              },
              {
                "output_type": "stream",
                "metadata": {
                  "tags": []
                },
                "text": "La edad de la imagen http://www.museodelarioja.es/wp-content/uploads/Maternidad-686x1030.jpg es: Edad Antigua\n",
                "stream": "stdout"
              }
            ],
            "_view_module": "@jupyter-widgets/output",
            "_model_module_version": "1.0.0",
            "_view_count": null,
            "_view_module_version": "1.0.0",
            "layout": "IPY_MODEL_21cbf190c3874e59aa25b32ee9351bc3",
            "_model_module": "@jupyter-widgets/output"
          }
        },
        "21cbf190c3874e59aa25b32ee9351bc3": {
          "model_module": "@jupyter-widgets/base",
          "model_name": "LayoutModel",
          "state": {
            "_view_name": "LayoutView",
            "grid_template_rows": null,
            "right": null,
            "justify_content": null,
            "_view_module": "@jupyter-widgets/base",
            "overflow": null,
            "_model_module_version": "1.2.0",
            "_view_count": null,
            "flex_flow": null,
            "width": null,
            "min_width": null,
            "border": null,
            "align_items": null,
            "bottom": null,
            "_model_module": "@jupyter-widgets/base",
            "top": null,
            "grid_column": null,
            "overflow_y": null,
            "overflow_x": null,
            "grid_auto_flow": null,
            "grid_area": null,
            "grid_template_columns": null,
            "flex": null,
            "_model_name": "LayoutModel",
            "justify_items": null,
            "grid_row": null,
            "max_height": null,
            "align_content": null,
            "visibility": null,
            "align_self": null,
            "height": null,
            "min_height": null,
            "padding": null,
            "grid_auto_rows": null,
            "grid_gap": null,
            "max_width": null,
            "order": null,
            "_view_module_version": "1.2.0",
            "grid_template_areas": null,
            "object_position": null,
            "object_fit": null,
            "grid_auto_columns": null,
            "margin": null,
            "display": null,
            "left": null
          }
        }
      }
    }
  },
  "cells": [
    {
      "cell_type": "markdown",
      "metadata": {
        "id": "view-in-github",
        "colab_type": "text"
      },
      "source": [
        "<a href=\"https://colab.research.google.com/github/albertodiez1980LaRioja/Prueba/blob/master/FuerzaBrutaResultados.ipynb\" target=\"_parent\"><img src=\"https://colab.research.google.com/assets/colab-badge.svg\" alt=\"Open In Colab\"/></a>"
      ]
    },
    {
      "cell_type": "code",
      "metadata": {
        "id": "mQoLkNSCxlDj",
        "colab_type": "code",
        "cellView": "form",
        "outputId": "e524a2fd-d757-4f62-8c8c-0ce595d7d2c0",
        "colab": {
          "base_uri": "https://localhost:8080/",
          "height": 312,
          "referenced_widgets": [
            "c91963dcd3ac4fa198b6d98a4928b442",
            "456845f315a249adaef0b95bfc326041",
            "74aed110095444e49eeb3ee5876b2635",
            "bde644ab09374563a1bcca52a2bd00fc",
            "c469dbbafa5e405daac77033348afa9c",
            "f856d4cce1bb474db2e1ab910937db13",
            "fa780537532740aca0a55dfa7c326575",
            "21cbf190c3874e59aa25b32ee9351bc3"
          ]
        }
      },
      "source": [
        "#%%capture\n",
        "#@title Pulsa en la flecha de la izquierda para empezar:\n",
        "\n",
        "# Carga de librerias\n",
        "from fastai.vision import *\n",
        "import os\n",
        "from google.colab import files\n",
        "\n",
        "# lo ponemos para que use la CPU por defecto\n",
        "defaults.device = torch.device('cpu')\n",
        "# las edades, e ignoramos los warnings\n",
        "edades={'1':'Prehistoria','2':'Edad Antigua','3':'Edad Media','4':'Edad Moderna','5':'Otras cronologías'}\n",
        "import warnings\n",
        "warnings.filterwarnings('ignore')\n",
        "\n",
        "\n",
        "print(\"Cargando los modelos, espere...\")\n",
        "# descargamos y descomprimimos los modelos\n",
        "!wget https://www.dropbox.com/s/p5ufjrl6dgeo75d/MODELOS.zip?dl=0 -O modelos.zip --quiet\n",
        "!unzip -qq modelos.zip \n",
        "\n",
        "learnBruta = load_learner(\"MODELOS/FuerzaBruta\")\n",
        "\n",
        "print(\"Modelos cargados\")\n",
        "\n",
        "ultimoMostrado=''\n",
        "\n",
        "import ipywidgets as widgets\n",
        "from IPython.display import display\n",
        "button = widgets.Button(description=\"Pulsa para clasificar\")\n",
        "output = widgets.Output()\n",
        "texto=widgets.Text(value='Pon aquí la URL', disabled=False)\n",
        "\n",
        "\n",
        "def on_button_clicked(b):\n",
        "  # Display the message within the output widget.\n",
        "  if(b.description=='Pulsa para clasificar'):\n",
        "    with output:\n",
        "      print(\"Espere a que la clasificación sea calculada...\")\n",
        "      #print(texto.value)\n",
        "      #!wget $Enlace -O prueba1.jpg --quiet\n",
        "      !wget $texto.value -O prueba1.jpg >salida.txt &>error.txt\n",
        "      #--quiet\n",
        "      file = open('error.txt','r')\n",
        "      # Leemos el texto completo\n",
        "      text = file.read()\n",
        "      # Cerramos el fichero\n",
        "      file.close()\n",
        "      #print(('failed' in text) or('ERROR' in text))\n",
        "      if not(('failed' in text) or('ERROR' in text)):\n",
        "        pred_class,pred_idx,outputs=learnBruta.predict(open_image('prueba1.jpg'))\n",
        "        print(\"La edad de la imagen \"+str(texto.value)+\" es: \"+edades[str(pred_class)])\n",
        "      else:\n",
        "        print(\"Revisa la URL, no parece que sea correcta\")\n",
        "\n",
        "button.on_click(on_button_clicked)\n",
        "\n",
        "display(texto)\n",
        "display(button, output)\n",
        "\n",
        "\n"
      ],
      "execution_count": 2,
      "outputs": [
        {
          "output_type": "stream",
          "text": [
            "Cargando los modelos, espere...\n",
            "replace MODELOS/.directory? [y]es, [n]o, [A]ll, [N]one, [r]ename: N\n",
            "Modelos cargados\n"
          ],
          "name": "stdout"
        },
        {
          "output_type": "display_data",
          "data": {
            "application/vnd.jupyter.widget-view+json": {
              "model_id": "c91963dcd3ac4fa198b6d98a4928b442",
              "version_minor": 0,
              "version_major": 2
            },
            "text/plain": [
              "Text(value='Pon aquí la URL')"
            ]
          },
          "metadata": {
            "tags": []
          }
        },
        {
          "output_type": "display_data",
          "data": {
            "application/vnd.jupyter.widget-view+json": {
              "model_id": "bde644ab09374563a1bcca52a2bd00fc",
              "version_minor": 0,
              "version_major": 2
            },
            "text/plain": [
              "Button(description='Pulsa para clasificar', style=ButtonStyle())"
            ]
          },
          "metadata": {
            "tags": []
          }
        },
        {
          "output_type": "display_data",
          "data": {
            "application/vnd.jupyter.widget-view+json": {
              "model_id": "fa780537532740aca0a55dfa7c326575",
              "version_minor": 0,
              "version_major": 2
            },
            "text/plain": [
              "Output()"
            ]
          },
          "metadata": {
            "tags": []
          }
        }
      ]
    }
  ]
}