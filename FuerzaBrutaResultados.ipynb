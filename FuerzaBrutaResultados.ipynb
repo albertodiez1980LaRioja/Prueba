{
  "nbformat": 4,
  "nbformat_minor": 0,
  "metadata": {
    "colab": {
      "name": "FuerzaBrutaResultados.ipynb",
      "provenance": [],
      "authorship_tag": "ABX9TyODm5sqatmJUpJy66u2pKYZ",
      "include_colab_link": true
    },
    "kernelspec": {
      "name": "python3",
      "display_name": "Python 3"
    },
    "widgets": {
      "application/vnd.jupyter.widget-state+json": {
        "2208d941670d43469522cb529555f83f": {
          "model_module": "@jupyter-widgets/controls",
          "model_name": "ButtonModel",
          "state": {
            "_view_name": "ButtonView",
            "style": "IPY_MODEL_0c4510557edd4084a9889eff99228ef6",
            "_dom_classes": [],
            "description": "Pulsa para ver la edad",
            "_model_name": "ButtonModel",
            "button_style": "",
            "_view_module": "@jupyter-widgets/controls",
            "_model_module_version": "1.5.0",
            "tooltip": "",
            "_view_count": null,
            "disabled": false,
            "_view_module_version": "1.5.0",
            "layout": "IPY_MODEL_fa0956378d734632be8155992037b3c7",
            "_model_module": "@jupyter-widgets/controls",
            "icon": ""
          }
        },
        "0c4510557edd4084a9889eff99228ef6": {
          "model_module": "@jupyter-widgets/controls",
          "model_name": "ButtonStyleModel",
          "state": {
            "_view_name": "StyleView",
            "_model_name": "ButtonStyleModel",
            "_view_module": "@jupyter-widgets/base",
            "_model_module_version": "1.5.0",
            "_view_count": null,
            "button_color": null,
            "font_weight": "",
            "_view_module_version": "1.2.0",
            "_model_module": "@jupyter-widgets/controls"
          }
        },
        "fa0956378d734632be8155992037b3c7": {
          "model_module": "@jupyter-widgets/base",
          "model_name": "LayoutModel",
          "state": {
            "_view_name": "LayoutView",
            "grid_template_rows": null,
            "right": null,
            "justify_content": null,
            "_view_module": "@jupyter-widgets/base",
            "overflow": null,
            "_model_module_version": "1.2.0",
            "_view_count": null,
            "flex_flow": null,
            "width": null,
            "min_width": null,
            "border": null,
            "align_items": null,
            "bottom": null,
            "_model_module": "@jupyter-widgets/base",
            "top": null,
            "grid_column": null,
            "overflow_y": null,
            "overflow_x": null,
            "grid_auto_flow": null,
            "grid_area": null,
            "grid_template_columns": null,
            "flex": null,
            "_model_name": "LayoutModel",
            "justify_items": null,
            "grid_row": null,
            "max_height": null,
            "align_content": null,
            "visibility": null,
            "align_self": null,
            "height": null,
            "min_height": null,
            "padding": null,
            "grid_auto_rows": null,
            "grid_gap": null,
            "max_width": null,
            "order": null,
            "_view_module_version": "1.2.0",
            "grid_template_areas": null,
            "object_position": null,
            "object_fit": null,
            "grid_auto_columns": null,
            "margin": null,
            "display": null,
            "left": null
          }
        },
        "bdad1131573c4957bdf80461d53f7c25": {
          "model_module": "@jupyter-widgets/output",
          "model_name": "OutputModel",
          "state": {
            "_view_name": "OutputView",
            "msg_id": "",
            "_dom_classes": [],
            "_model_name": "OutputModel",
            "outputs": [
              {
                "output_type": "stream",
                "metadata": {
                  "tags": []
                },
                "text": "La edad de la imagen es: Edad Antigua\n",
                "stream": "stdout"
              },
              {
                "output_type": "stream",
                "metadata": {
                  "tags": []
                },
                "text": "La edad de la imagen es: Edad Antigua\n",
                "stream": "stdout"
              }
            ],
            "_view_module": "@jupyter-widgets/output",
            "_model_module_version": "1.0.0",
            "_view_count": null,
            "_view_module_version": "1.0.0",
            "layout": "IPY_MODEL_e643b4655fa74ab78aa91ab56d20ad7a",
            "_model_module": "@jupyter-widgets/output"
          }
        },
        "e643b4655fa74ab78aa91ab56d20ad7a": {
          "model_module": "@jupyter-widgets/base",
          "model_name": "LayoutModel",
          "state": {
            "_view_name": "LayoutView",
            "grid_template_rows": null,
            "right": null,
            "justify_content": null,
            "_view_module": "@jupyter-widgets/base",
            "overflow": null,
            "_model_module_version": "1.2.0",
            "_view_count": null,
            "flex_flow": null,
            "width": null,
            "min_width": null,
            "border": null,
            "align_items": null,
            "bottom": null,
            "_model_module": "@jupyter-widgets/base",
            "top": null,
            "grid_column": null,
            "overflow_y": null,
            "overflow_x": null,
            "grid_auto_flow": null,
            "grid_area": null,
            "grid_template_columns": null,
            "flex": null,
            "_model_name": "LayoutModel",
            "justify_items": null,
            "grid_row": null,
            "max_height": null,
            "align_content": null,
            "visibility": null,
            "align_self": null,
            "height": null,
            "min_height": null,
            "padding": null,
            "grid_auto_rows": null,
            "grid_gap": null,
            "max_width": null,
            "order": null,
            "_view_module_version": "1.2.0",
            "grid_template_areas": null,
            "object_position": null,
            "object_fit": null,
            "grid_auto_columns": null,
            "margin": null,
            "display": null,
            "left": null
          }
        }
      }
    }
  },
  "cells": [
    {
      "cell_type": "markdown",
      "metadata": {
        "id": "view-in-github",
        "colab_type": "text"
      },
      "source": [
        "<a href=\"https://colab.research.google.com/github/albertodiez1980LaRioja/Prueba/blob/master/FuerzaBrutaResultados.ipynb\" target=\"_parent\"><img src=\"https://colab.research.google.com/assets/colab-badge.svg\" alt=\"Open In Colab\"/></a>"
      ]
    },
    {
      "cell_type": "code",
      "metadata": {
        "id": "mQoLkNSCxlDj",
        "colab_type": "code",
        "cellView": "both",
        "outputId": "ce6b6a70-9137-49fe-8ab0-4399d941a0ea",
        "colab": {
          "base_uri": "https://localhost:8080/",
          "height": 138,
          "referenced_widgets": [
            "2208d941670d43469522cb529555f83f",
            "0c4510557edd4084a9889eff99228ef6",
            "fa0956378d734632be8155992037b3c7",
            "bdad1131573c4957bdf80461d53f7c25",
            "e643b4655fa74ab78aa91ab56d20ad7a"
          ]
        }
      },
      "source": [
        "#%%capture\n",
        "#@title Mete un enlace para calcular la edad en la historia:\n",
        "\n",
        "# Carga de librerias\n",
        "from fastai.vision import *\n",
        "import os\n",
        "from google.colab import files\n",
        "\n",
        "# lo ponemos para que use la CPU por defecto\n",
        "defaults.device = torch.device('cpu')\n",
        "# las edades, e ignoramos los warnings\n",
        "edades={'1':'Prehistoria','2':'Edad Antigua','3':'Edad Media','4':'Edad Moderna','5':'Otras cronologías'}\n",
        "import warnings\n",
        "warnings.filterwarnings('ignore')\n",
        "\n",
        "\n",
        "print(\"Cargando los modelos, espere...\")\n",
        "# descargamos y descomprimimos los modelos\n",
        "!wget https://www.dropbox.com/s/p5ufjrl6dgeo75d/MODELOS.zip?dl=0 -O modelos.zip --quiet\n",
        "!unzip -qq modelos.zip \n",
        "\n",
        "learnBruta = load_learner(\"MODELOS/FuerzaBruta\")\n",
        "\n",
        "print(\"Modelos cargados\")\n",
        "\n",
        "import ipywidgets as widgets\n",
        "from IPython.display import display\n",
        "button = widgets.Button(description=\"Pulsa para ver la edad\")\n",
        "output = widgets.Output()\n",
        "\n",
        "def on_button_clicked(b):\n",
        "  # Display the message within the output widget.\n",
        "  with output:\n",
        "    print(\"Espere a que la clasificación sea calculada...\")\n",
        "    !wget $Enlace -O prueba1.jpg --quiet\n",
        "    pred_class,pred_idx,outputs=learnBruta.predict(open_image('prueba1.jpg'))\n",
        "    if(pred_class):\n",
        "      print(\"La edad de la imagen es: \"+edades[str(pred_class)])\n",
        "\n",
        "button.on_click(on_button_clicked)\n",
        "display(button, output)\n",
        "\n",
        "\n",
        "\n",
        "#enlace = 'https://www.dropbox.com/s/rhau5yzrr33a4v4/5061.jpg?dl=0' #@param {type:\"string\"}\n",
        "Enlace = 'http://www.museodelarioja.es/wp-content/uploads/+-Campaniforme-1030x686.jpg' #@param {type:\"string\"}\n",
        "\n",
        "\n",
        "\n"
      ],
      "execution_count": 3,
      "outputs": [
        {
          "output_type": "stream",
          "text": [
            "Cargando los modelos, espere...\n",
            "replace MODELOS/.directory? [y]es, [n]o, [A]ll, [N]one, [r]ename: N\n",
            "Modelos cargados\n"
          ],
          "name": "stdout"
        },
        {
          "output_type": "display_data",
          "data": {
            "application/vnd.jupyter.widget-view+json": {
              "model_id": "2208d941670d43469522cb529555f83f",
              "version_minor": 0,
              "version_major": 2
            },
            "text/plain": [
              "Button(description='Pulsa para ver la edad', style=ButtonStyle())"
            ]
          },
          "metadata": {
            "tags": []
          }
        },
        {
          "output_type": "display_data",
          "data": {
            "application/vnd.jupyter.widget-view+json": {
              "model_id": "bdad1131573c4957bdf80461d53f7c25",
              "version_minor": 0,
              "version_major": 2
            },
            "text/plain": [
              "Output()"
            ]
          },
          "metadata": {
            "tags": []
          }
        }
      ]
    }
  ]
}