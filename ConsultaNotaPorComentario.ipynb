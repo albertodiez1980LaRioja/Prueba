{
  "nbformat": 4,
  "nbformat_minor": 0,
  "metadata": {
    "colab": {
      "name": "ConsultaNotaPorComentario.ipynb",
      "provenance": [],
      "authorship_tag": "ABX9TyOVTToQ9B5liikQ1d+77Irr",
      "include_colab_link": true
    },
    "kernelspec": {
      "name": "python3",
      "display_name": "Python 3"
    },
    "accelerator": "GPU"
  },
  "cells": [
    {
      "cell_type": "markdown",
      "metadata": {
        "id": "view-in-github",
        "colab_type": "text"
      },
      "source": [
        "<a href=\"https://colab.research.google.com/github/albertodiez1980LaRioja/Prueba/blob/master/ConsultaNotaPorComentario.ipynb\" target=\"_parent\"><img src=\"https://colab.research.google.com/assets/colab-badge.svg\" alt=\"Open In Colab\"/></a>"
      ]
    },
    {
      "cell_type": "code",
      "metadata": {
        "id": "UJsN-lY6nakm",
        "colab_type": "code",
        "colab": {
          "base_uri": "https://localhost:8080/",
          "height": 277
        },
        "outputId": "b2d8fe65-fe98-4b65-b038-bceb936f0bfa"
      },
      "source": [
        "#%%capture\n",
        "#@title Pulsa en la flecha de la izquierda para empezar:\n",
        "\n",
        "\n",
        "import warnings\n",
        "warnings.filterwarnings('ignore')\n",
        "\n",
        "!pip install fastai2 -q\n",
        "\n",
        "from fastai2.text.all import *\n",
        "\n",
        "\n",
        "print(\"Cargando los modelos, espere...\")\n",
        "\n",
        "# descargamos y descomprimimos el modelo\n",
        "!wget https://www.dropbox.com/s/jlgc1b5epklhl8m/finetuned3.pth?dl=0 -O finetuned3.pth --quiet\n",
        "\n",
        "!wget https://www.dropbox.com/s/ymnlbpxkkh99qqu/Train.zip?dl=0 -O Train.zip --quiet\n",
        "!unzip -qq -o Train.zip\n",
        "\n",
        "!wget https://www.dropbox.com/s/0h3y720qp4hkyg7/Test.zip?dl=0 -O Test.zip --quiet\n",
        "!unzip -qq -o Test.zip\n",
        "\n",
        "get_imdb = partial(get_text_files, folders=['Train', 'Test'])\n",
        "\n",
        "dls_lm = DataBlock(\n",
        "    blocks=TextBlock.from_folder('.', is_lm=True),\n",
        "    get_items=get_imdb, splitter=RandomSplitter(0.1)\n",
        ").dataloaders('.', path='.', bs=128, seq_len=80)\n",
        "\n",
        "dls_clas = DataBlock(\n",
        "    blocks=(TextBlock.from_folder('.', vocab=dls_lm.vocab),CategoryBlock),\n",
        "    get_y = parent_label,\n",
        "    get_items=partial(get_text_files, folders=['Train', 'Test']),\n",
        "    #splitter=GrandparentSplitter(valid_name='Test')\n",
        ").dataloaders('.', path='.', bs=128, seq_len=72)\n",
        "learn = text_classifier_learner(dls_clas, AWD_LSTM, drop_mult=0.5, \n",
        "\n",
        "                                metrics=accuracy).to_fp16()\n",
        "\n",
        "learn = learn.load_encoder('../finetuned3')\n",
        "\n",
        "print(\"Modelos cargados\")\n",
        "\n",
        "import ipywidgets as widgets\n",
        "from IPython.display import display\n",
        "button = widgets.Button(description=\"Pulsa para clasificar\")\n",
        "output = widgets.Output()\n",
        "texto=widgets.Text(value='Pon aquí la URL', disabled=False)\n",
        "\n",
        "def on_button_clicked(b):\n",
        "  # Display the message within the output widget.\n",
        "  if(b.description=='Pulsa para clasificar'):\n",
        "    with output:\n",
        "      print(\"Espere a que la clasificación sea calculada...\")\n",
        "      pred_class,pred_idx,outputs=learn.predict(texto.value)\n",
        "      print(\"La nota calculada es: \"+pred_class)\n",
        "button.on_click(on_button_clicked)\n",
        "\n",
        "display(texto)\n",
        "display(button, output)\n"
      ],
      "execution_count": 1,
      "outputs": [
        {
          "output_type": "stream",
          "text": [
            "\u001b[?25l\r\u001b[K     |█▊                              | 10kB 26.8MB/s eta 0:00:01\r\u001b[K     |███▌                            | 20kB 2.8MB/s eta 0:00:01\r\u001b[K     |█████▏                          | 30kB 4.0MB/s eta 0:00:01\r\u001b[K     |███████                         | 40kB 2.8MB/s eta 0:00:01\r\u001b[K     |████████▋                       | 51kB 3.1MB/s eta 0:00:01\r\u001b[K     |██████████▍                     | 61kB 3.7MB/s eta 0:00:01\r\u001b[K     |████████████                    | 71kB 4.1MB/s eta 0:00:01\r\u001b[K     |█████████████▉                  | 81kB 4.2MB/s eta 0:00:01\r\u001b[K     |███████████████▌                | 92kB 4.6MB/s eta 0:00:01\r\u001b[K     |█████████████████▎              | 102kB 4.7MB/s eta 0:00:01\r\u001b[K     |███████████████████             | 112kB 4.7MB/s eta 0:00:01\r\u001b[K     |████████████████████▊           | 122kB 4.7MB/s eta 0:00:01\r\u001b[K     |██████████████████████▍         | 133kB 4.7MB/s eta 0:00:01\r\u001b[K     |████████████████████████▏       | 143kB 4.7MB/s eta 0:00:01\r\u001b[K     |█████████████████████████▉      | 153kB 4.7MB/s eta 0:00:01\r\u001b[K     |███████████████████████████▋    | 163kB 4.7MB/s eta 0:00:01\r\u001b[K     |█████████████████████████████▎  | 174kB 4.7MB/s eta 0:00:01\r\u001b[K     |███████████████████████████████ | 184kB 4.7MB/s eta 0:00:01\r\u001b[K     |████████████████████████████████| 194kB 4.7MB/s \n",
            "\u001b[?25hCargando los modelos, espere...\n"
          ],
          "name": "stdout"
        },
        {
          "output_type": "error",
          "ename": "NameError",
          "evalue": "ignored",
          "traceback": [
            "\u001b[0;31m---------------------------------------------------------------------------\u001b[0m",
            "\u001b[0;31mNameError\u001b[0m                                 Traceback (most recent call last)",
            "\u001b[0;32m<ipython-input-1-a2a32f14b73e>\u001b[0m in \u001b[0;36m<module>\u001b[0;34m()\u001b[0m\n\u001b[1;32m     22\u001b[0m \u001b[0;34m\u001b[0m\u001b[0m\n\u001b[1;32m     23\u001b[0m dls_clas = DataBlock(\n\u001b[0;32m---> 24\u001b[0;31m     \u001b[0mblocks\u001b[0m\u001b[0;34m=\u001b[0m\u001b[0;34m(\u001b[0m\u001b[0mTextBlock\u001b[0m\u001b[0;34m.\u001b[0m\u001b[0mfrom_folder\u001b[0m\u001b[0;34m(\u001b[0m\u001b[0;34m'.'\u001b[0m\u001b[0;34m,\u001b[0m \u001b[0mvocab\u001b[0m\u001b[0;34m=\u001b[0m\u001b[0mdls_lm\u001b[0m\u001b[0;34m.\u001b[0m\u001b[0mvocab\u001b[0m\u001b[0;34m)\u001b[0m\u001b[0;34m,\u001b[0m\u001b[0mCategoryBlock\u001b[0m\u001b[0;34m)\u001b[0m\u001b[0;34m,\u001b[0m\u001b[0;34m\u001b[0m\u001b[0;34m\u001b[0m\u001b[0m\n\u001b[0m\u001b[1;32m     25\u001b[0m     \u001b[0mget_y\u001b[0m \u001b[0;34m=\u001b[0m \u001b[0mparent_label\u001b[0m\u001b[0;34m,\u001b[0m\u001b[0;34m\u001b[0m\u001b[0;34m\u001b[0m\u001b[0m\n\u001b[1;32m     26\u001b[0m     \u001b[0mget_items\u001b[0m\u001b[0;34m=\u001b[0m\u001b[0mpartial\u001b[0m\u001b[0;34m(\u001b[0m\u001b[0mget_text_files\u001b[0m\u001b[0;34m,\u001b[0m \u001b[0mfolders\u001b[0m\u001b[0;34m=\u001b[0m\u001b[0;34m[\u001b[0m\u001b[0;34m'Train'\u001b[0m\u001b[0;34m,\u001b[0m \u001b[0;34m'Test'\u001b[0m\u001b[0;34m]\u001b[0m\u001b[0;34m)\u001b[0m\u001b[0;34m,\u001b[0m\u001b[0;34m\u001b[0m\u001b[0;34m\u001b[0m\u001b[0m\n",
            "\u001b[0;31mNameError\u001b[0m: name 'dls_lm' is not defined"
          ]
        }
      ]
    }
  ]
}