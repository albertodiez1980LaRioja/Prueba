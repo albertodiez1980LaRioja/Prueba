{
  "nbformat": 4,
  "nbformat_minor": 0,
  "metadata": {
    "colab": {
      "name": "ConsultaNotaPorComentario.ipynb",
      "provenance": [],
      "authorship_tag": "ABX9TyPJ/3WHRE7lQ/Hkt2UqP4N4",
      "include_colab_link": true
    },
    "kernelspec": {
      "name": "python3",
      "display_name": "Python 3"
    }
  },
  "cells": [
    {
      "cell_type": "markdown",
      "metadata": {
        "id": "view-in-github",
        "colab_type": "text"
      },
      "source": [
        "<a href=\"https://colab.research.google.com/github/albertodiez1980LaRioja/Prueba/blob/master/ConsultaNotaPorComentario.ipynb\" target=\"_parent\"><img src=\"https://colab.research.google.com/assets/colab-badge.svg\" alt=\"Open In Colab\"/></a>"
      ]
    },
    {
      "cell_type": "code",
      "metadata": {
        "id": "UJsN-lY6nakm",
        "colab_type": "code",
        "colab": {
          "base_uri": "https://localhost:8080/",
          "height": 260
        },
        "outputId": "f3716b8d-c127-4251-d7e3-08367fa7855e"
      },
      "source": [
        "import warnings\n",
        "warnings.filterwarnings('ignore')\n",
        "\n",
        "!pip install fastai2 -q\n",
        "\n",
        "from fastai2.text.all import *\n",
        "\n",
        "\n",
        "print(\"Cargando los modelos, espere...\")\n",
        "\n",
        "# descargamos y descomprimimos el modelo\n",
        "!wget https://www.dropbox.com/s/jlgc1b5epklhl8m/finetuned3.pth?dl=0 -O finetuned3.pth --quiet\n",
        "\n",
        "!wget https://www.dropbox.com/s/ymnlbpxkkh99qqu/Train.zip?dl=0 -O Train.zip --quiet\n",
        "!unzip -qq -o Train.zip\n",
        "\n",
        "!wget https://www.dropbox.com/s/0h3y720qp4hkyg7/Test.zip?dl=0 -O Test.zip --quiet\n",
        "!unzip -qq -o Test.zip\n",
        "\n",
        "\n",
        "get_imdb = partial(get_text_files, folders=['Train', 'Test'])\n",
        "dls_lm = DataBlock(\n",
        "    blocks=TextBlock.from_folder('.', is_lm=True),\n",
        "    get_items=get_imdb, splitter=RandomSplitter(0.1)\n",
        ").dataloaders('.', path='.', bs=128, seq_len=80)    \n",
        "\n",
        "\n",
        "\n",
        "learn = language_model_learner(\n",
        "    dls_lm, AWD_LSTM, drop_mult=0.3, \n",
        "    metrics=[accuracy,Perplexity()]).to_fp16()\n",
        "\n",
        "\n",
        "\n",
        "learn = learn.load_encoder('finetuned3')\n",
        "\n",
        "print(\"Modelos cargados\")\n",
        "\n",
        "import ipywidgets as widgets\n",
        "from IPython.display import display\n",
        "button = widgets.Button(description=\"Pulsa para clasificar\")\n",
        "output = widgets.Output()\n",
        "texto=widgets.Text(value='Pon aquí la URL', disabled=False)\n",
        "\n",
        "def on_button_clicked(b):\n",
        "  # Display the message within the output widget.\n",
        "  if(b.description=='Pulsa para clasificar'):\n",
        "    with output:\n",
        "      print(\"Espere a que la clasificación sea calculada...\")\n",
        "      pred_class,pred_idx,outputs=learn.predict(texto.value)\n",
        "      print(\"La nota calculada es: \"+pred_class)\n",
        "button.on_click(on_button_clicked)\n",
        "\n",
        "display(texto)\n",
        "display(button, output)\n"
      ],
      "execution_count": 7,
      "outputs": [
        {
          "output_type": "stream",
          "text": [
            "Cargando los modelos, espere...\n"
          ],
          "name": "stdout"
        },
        {
          "output_type": "error",
          "ename": "NameError",
          "evalue": "ignored",
          "traceback": [
            "\u001b[0;31m---------------------------------------------------------------------------\u001b[0m",
            "\u001b[0;31mNameError\u001b[0m                                 Traceback (most recent call last)",
            "\u001b[0;32m<ipython-input-7-dad2299c14a3>\u001b[0m in \u001b[0;36m<module>\u001b[0;34m()\u001b[0m\n\u001b[1;32m     20\u001b[0m dls_lm = DataBlock(\n\u001b[1;32m     21\u001b[0m     \u001b[0mblocks\u001b[0m\u001b[0;34m=\u001b[0m\u001b[0mTextBlock\u001b[0m\u001b[0;34m.\u001b[0m\u001b[0mfrom_folder\u001b[0m\u001b[0;34m(\u001b[0m\u001b[0;34m'.'\u001b[0m\u001b[0;34m,\u001b[0m \u001b[0mis_lm\u001b[0m\u001b[0;34m=\u001b[0m\u001b[0;32mTrue\u001b[0m\u001b[0;34m)\u001b[0m\u001b[0;34m,\u001b[0m\u001b[0;34m\u001b[0m\u001b[0;34m\u001b[0m\u001b[0m\n\u001b[0;32m---> 22\u001b[0;31m     \u001b[0mget_items\u001b[0m\u001b[0;34m=\u001b[0m\u001b[0mget_imdb\u001b[0m\u001b[0;34m,\u001b[0m \u001b[0msplitter\u001b[0m\u001b[0;34m=\u001b[0m\u001b[0mRandomSplitter\u001b[0m\u001b[0;34m(\u001b[0m\u001b[0;36m0.1\u001b[0m\u001b[0;34m)\u001b[0m\u001b[0;34m\u001b[0m\u001b[0;34m\u001b[0m\u001b[0m\n\u001b[0m\u001b[1;32m     23\u001b[0m ).dataloaders('.', path='.', bs=128, seq_len=80)    \n\u001b[1;32m     24\u001b[0m \u001b[0;34m\u001b[0m\u001b[0m\n",
            "\u001b[0;31mNameError\u001b[0m: name 'get_imdb' is not defined"
          ]
        }
      ]
    }
  ]
}