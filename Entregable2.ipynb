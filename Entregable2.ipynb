{
  "nbformat": 4,
  "nbformat_minor": 0,
  "metadata": {
    "colab": {
      "name": "Entregable2.ipynb",
      "provenance": [],
      "authorship_tag": "ABX9TyMEHLB+nIcnMViSn2Tg2JOW",
      "include_colab_link": true
    },
    "kernelspec": {
      "name": "python3",
      "display_name": "Python 3"
    }
  },
  "cells": [
    {
      "cell_type": "markdown",
      "metadata": {
        "id": "view-in-github",
        "colab_type": "text"
      },
      "source": [
        "<a href=\"https://colab.research.google.com/github/albertodiez1980LaRioja/Prueba/blob/master/Entregable2.ipynb\" target=\"_parent\"><img src=\"https://colab.research.google.com/assets/colab-badge.svg\" alt=\"Open In Colab\"/></a>"
      ]
    },
    {
      "cell_type": "code",
      "metadata": {
        "id": "VCPuI099T7ng",
        "colab_type": "code",
        "colab": {}
      },
      "source": [
        "# Carga de librerias\n",
        "from fastai.vision import *\n",
        "import os\n",
        "from google.colab import files"
      ],
      "execution_count": 0,
      "outputs": []
    }
  ]
}