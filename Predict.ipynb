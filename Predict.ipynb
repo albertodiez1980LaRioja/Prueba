{
  "nbformat": 4,
  "nbformat_minor": 0,
  "metadata": {
    "colab": {
      "name": "Predict.ipynb",
      "provenance": [],
      "authorship_tag": "ABX9TyMcIIyV+udhSthP2pMBpfWi",
      "include_colab_link": true
    },
    "kernelspec": {
      "name": "python3",
      "display_name": "Python 3"
    },
    "accelerator": "GPU"
  },
  "cells": [
    {
      "cell_type": "markdown",
      "metadata": {
        "id": "view-in-github",
        "colab_type": "text"
      },
      "source": [
        "<a href=\"https://colab.research.google.com/github/albertodiez1980LaRioja/Prueba/blob/master/Predict.ipynb\" target=\"_parent\"><img src=\"https://colab.research.google.com/assets/colab-badge.svg\" alt=\"Open In Colab\"/></a>"
      ]
    },
    {
      "cell_type": "code",
      "metadata": {
        "id": "NRWJ3XHgLpGT",
        "colab_type": "code",
        "colab": {
          "base_uri": "https://localhost:8080/",
          "height": 747
        },
        "outputId": "22e2cf86-ee49-437d-c231-7d3b6797d786"
      },
      "source": [
        "# En este notebook probaremos la efectividad sobre el grupo de entrenamiento y un grupo de test externo de los diferentes algoritmos\n",
        "\n",
        "!wget https://www.dropbox.com/s/hvq2c6gwm8hyvp1/Test.csv?dl=0 -O Test.csv\n",
        "!wget https://www.dropbox.com/s/n6akt2v5xupw5ef/Train.csv?dl=0 -O Train.csv"
      ],
      "execution_count": 27,
      "outputs": [
        {
          "output_type": "stream",
          "text": [
            "--2020-05-06 15:42:19--  https://www.dropbox.com/s/hvq2c6gwm8hyvp1/Test.csv?dl=0\n",
            "Resolving www.dropbox.com (www.dropbox.com)... 162.125.65.1, 2620:100:6021:1::a27d:4101\n",
            "Connecting to www.dropbox.com (www.dropbox.com)|162.125.65.1|:443... connected.\n",
            "HTTP request sent, awaiting response... 301 Moved Permanently\n",
            "Location: /s/raw/hvq2c6gwm8hyvp1/Test.csv [following]\n",
            "--2020-05-06 15:42:20--  https://www.dropbox.com/s/raw/hvq2c6gwm8hyvp1/Test.csv\n",
            "Reusing existing connection to www.dropbox.com:443.\n",
            "HTTP request sent, awaiting response... 302 Found\n",
            "Location: https://uc5f88bbf697aec5138cd93347a3.dl.dropboxusercontent.com/cd/0/inline/A3PzzLhicQWzVEcW7vafI9Bxds0fwKlV5h-FrVXsTr_8e0fI2v6_DXuEvkIFAvNp0GFcT6EnImNLRSYKOwBQaS-2mM2CrgHxMTJqVl8u8HXrLkp-8dYjMCt5dvQ4GKWQqsQ/file# [following]\n",
            "--2020-05-06 15:42:20--  https://uc5f88bbf697aec5138cd93347a3.dl.dropboxusercontent.com/cd/0/inline/A3PzzLhicQWzVEcW7vafI9Bxds0fwKlV5h-FrVXsTr_8e0fI2v6_DXuEvkIFAvNp0GFcT6EnImNLRSYKOwBQaS-2mM2CrgHxMTJqVl8u8HXrLkp-8dYjMCt5dvQ4GKWQqsQ/file\n",
            "Resolving uc5f88bbf697aec5138cd93347a3.dl.dropboxusercontent.com (uc5f88bbf697aec5138cd93347a3.dl.dropboxusercontent.com)... 162.125.65.6, 2620:100:6021:6::a27d:4106\n",
            "Connecting to uc5f88bbf697aec5138cd93347a3.dl.dropboxusercontent.com (uc5f88bbf697aec5138cd93347a3.dl.dropboxusercontent.com)|162.125.65.6|:443... connected.\n",
            "HTTP request sent, awaiting response... 200 OK\n",
            "Length: 3206 (3.1K) [text/plain]\n",
            "Saving to: ‘Test.csv’\n",
            "\n",
            "Test.csv            100%[===================>]   3.13K  --.-KB/s    in 0s      \n",
            "\n",
            "2020-05-06 15:42:20 (595 MB/s) - ‘Test.csv’ saved [3206/3206]\n",
            "\n",
            "--2020-05-06 15:42:22--  https://www.dropbox.com/s/n6akt2v5xupw5ef/Train.csv?dl=0\n",
            "Resolving www.dropbox.com (www.dropbox.com)... 162.125.65.1, 2620:100:6021:1::a27d:4101\n",
            "Connecting to www.dropbox.com (www.dropbox.com)|162.125.65.1|:443... connected.\n",
            "HTTP request sent, awaiting response... 301 Moved Permanently\n",
            "Location: /s/raw/n6akt2v5xupw5ef/Train.csv [following]\n",
            "--2020-05-06 15:42:22--  https://www.dropbox.com/s/raw/n6akt2v5xupw5ef/Train.csv\n",
            "Reusing existing connection to www.dropbox.com:443.\n",
            "HTTP request sent, awaiting response... 302 Found\n",
            "Location: https://uc2d378ec4a448756cf5a995aa88.dl.dropboxusercontent.com/cd/0/inline/A3NPhHH5vi1siQ3dqU2fHwE09lbDwH1TtMYjt4ucxYpNz4LXbtfdaVUXMQCZhYSMXP0NXGBr9-4pa2dz_lca0IkywOM5B6PO6SlN5mcPZs6oXBHINY5cHPvC6UnZsAItDLY/file# [following]\n",
            "--2020-05-06 15:42:23--  https://uc2d378ec4a448756cf5a995aa88.dl.dropboxusercontent.com/cd/0/inline/A3NPhHH5vi1siQ3dqU2fHwE09lbDwH1TtMYjt4ucxYpNz4LXbtfdaVUXMQCZhYSMXP0NXGBr9-4pa2dz_lca0IkywOM5B6PO6SlN5mcPZs6oXBHINY5cHPvC6UnZsAItDLY/file\n",
            "Resolving uc2d378ec4a448756cf5a995aa88.dl.dropboxusercontent.com (uc2d378ec4a448756cf5a995aa88.dl.dropboxusercontent.com)... 162.125.8.6, 2620:100:6021:6::a27d:4106\n",
            "Connecting to uc2d378ec4a448756cf5a995aa88.dl.dropboxusercontent.com (uc2d378ec4a448756cf5a995aa88.dl.dropboxusercontent.com)|162.125.8.6|:443... connected.\n",
            "HTTP request sent, awaiting response... 200 OK\n",
            "Length: 25982 (25K) [text/plain]\n",
            "Saving to: ‘Train.csv’\n",
            "\n",
            "Train.csv           100%[===================>]  25.37K  --.-KB/s    in 0.1s    \n",
            "\n",
            "2020-05-06 15:42:23 (226 KB/s) - ‘Train.csv’ saved [25982/25982]\n",
            "\n"
          ],
          "name": "stdout"
        }
      ]
    },
    {
      "cell_type": "code",
      "metadata": {
        "id": "B7LN6fcSM4gp",
        "colab_type": "code",
        "colab": {
          "base_uri": "https://localhost:8080/",
          "height": 206
        },
        "outputId": "08d0e6ba-9ff9-4604-d1f4-096cfcf74797"
      },
      "source": [
        "# ahora metemos los dataset en variables\n",
        "\n",
        "import pandas as pd\n",
        "\n",
        "# hay que tener presente que el primer descriptor es la ruta y nombre del archivo\n",
        "# el segundo es la epoca y el tercero es el tipo\n",
        "Testdf = pd.read_csv('Test.csv',header=None)\n",
        "Testdf.head()\n",
        "\n",
        "Traindf=pd.read_csv('Train.csv',header=None)\n",
        "Traindf.head()\n",
        "\n"
      ],
      "execution_count": 28,
      "outputs": [
        {
          "output_type": "execute_result",
          "data": {
            "text/html": [
              "<div>\n",
              "<style scoped>\n",
              "    .dataframe tbody tr th:only-of-type {\n",
              "        vertical-align: middle;\n",
              "    }\n",
              "\n",
              "    .dataframe tbody tr th {\n",
              "        vertical-align: top;\n",
              "    }\n",
              "\n",
              "    .dataframe thead th {\n",
              "        text-align: right;\n",
              "    }\n",
              "</style>\n",
              "<table border=\"1\" class=\"dataframe\">\n",
              "  <thead>\n",
              "    <tr style=\"text-align: right;\">\n",
              "      <th></th>\n",
              "      <th>0</th>\n",
              "      <th>1</th>\n",
              "      <th>2</th>\n",
              "    </tr>\n",
              "  </thead>\n",
              "  <tbody>\n",
              "    <tr>\n",
              "      <th>0</th>\n",
              "      <td>piedras/5/6086.jpg</td>\n",
              "      <td>5</td>\n",
              "      <td>piedras</td>\n",
              "    </tr>\n",
              "    <tr>\n",
              "      <th>1</th>\n",
              "      <td>piedras/5/6965.jpg</td>\n",
              "      <td>5</td>\n",
              "      <td>piedras</td>\n",
              "    </tr>\n",
              "    <tr>\n",
              "      <th>2</th>\n",
              "      <td>piedras/4/7006.jpg</td>\n",
              "      <td>4</td>\n",
              "      <td>piedras</td>\n",
              "    </tr>\n",
              "    <tr>\n",
              "      <th>3</th>\n",
              "      <td>piedras/4/6941.jpg</td>\n",
              "      <td>4</td>\n",
              "      <td>piedras</td>\n",
              "    </tr>\n",
              "    <tr>\n",
              "      <th>4</th>\n",
              "      <td>piedras/4/6869.jpg</td>\n",
              "      <td>4</td>\n",
              "      <td>piedras</td>\n",
              "    </tr>\n",
              "  </tbody>\n",
              "</table>\n",
              "</div>"
            ],
            "text/plain": [
              "                    0  1        2\n",
              "0  piedras/5/6086.jpg  5  piedras\n",
              "1  piedras/5/6965.jpg  5  piedras\n",
              "2  piedras/4/7006.jpg  4  piedras\n",
              "3  piedras/4/6941.jpg  4  piedras\n",
              "4  piedras/4/6869.jpg  4  piedras"
            ]
          },
          "metadata": {
            "tags": []
          },
          "execution_count": 28
        }
      ]
    },
    {
      "cell_type": "code",
      "metadata": {
        "id": "Y8KhVtBmOrPR",
        "colab_type": "code",
        "colab": {
          "base_uri": "https://localhost:8080/",
          "height": 35
        },
        "outputId": "a28f5bab-91b3-4acf-9c09-3b3fe65ce790"
      },
      "source": [
        "# ahora toca cargar los modelos\n",
        "# Carga de librerias\n",
        "from fastai.vision import *\n",
        "import os\n",
        "from google.colab import files\n",
        "\n",
        "!wget https://www.dropbox.com/s/p5ufjrl6dgeo75d/MODELOS.zip?dl=0 -O modelos.zip --quiet\n",
        "!unzip -qq modelos.zip \n",
        "\n",
        "learnBruta = load_learner(\"MODELOS/FuerzaBruta\")\n",
        "learnGeneral = load_learner(\"MODELOS/General\")\n",
        "learnCrucesPortavelasCampanas = load_learner(\"MODELOS/crucesPortavelasCampanas\")\n",
        "learnEnganches = load_learner(\"MODELOS/enganches\")\n",
        "learnEstatuas = load_learner(\"MODELOS/estatuas\")\n",
        "learnPesosMonedas = load_learner(\"MODELOS/pesosMonedas\")\n",
        "learnPiedras = load_learner(\"MODELOS/pesosMonedas\")\n",
        "learnPinturas = load_learner(\"MODELOS/Pinturas\")\n",
        "learnRecipientes = load_learner(\"MODELOS/recipientes\")\n",
        "learnRopatelas = load_learner(\"MODELOS/ropaTelas\")\n",
        "learnUtensiliosAgricultura = load_learner(\"MODELOS/utensiliosAgricultura\")"
      ],
      "execution_count": 29,
      "outputs": [
        {
          "output_type": "stream",
          "text": [
            "replace MODELOS/.directory? [y]es, [n]o, [A]ll, [N]one, [r]ename: N\n"
          ],
          "name": "stdout"
        }
      ]
    },
    {
      "cell_type": "code",
      "metadata": {
        "id": "JtHzLfHmQ01l",
        "colab_type": "code",
        "colab": {
          "base_uri": "https://localhost:8080/",
          "height": 605
        },
        "outputId": "75a9e240-fa2a-4683-888d-3dec9ebe8aec"
      },
      "source": [
        "!wget https://www.dropbox.com/s/f3qaaadn8axihb3/CLASIFICADOS_2produccion.zip?dl=0 -O CLASIFICADOS_2produccion.zip\n",
        "!unzip CLASIFICADOS_2produccion.zip\n"
      ],
      "execution_count": 30,
      "outputs": [
        {
          "output_type": "stream",
          "text": [
            "--2020-05-06 15:44:51--  https://www.dropbox.com/s/f3qaaadn8axihb3/CLASIFICADOS_2produccion.zip?dl=0\n",
            "Resolving www.dropbox.com (www.dropbox.com)... 162.125.65.1, 2620:100:601b:1::a27d:801\n",
            "Connecting to www.dropbox.com (www.dropbox.com)|162.125.65.1|:443... connected.\n",
            "HTTP request sent, awaiting response... 301 Moved Permanently\n",
            "Location: /s/raw/f3qaaadn8axihb3/CLASIFICADOS_2produccion.zip [following]\n",
            "--2020-05-06 15:44:51--  https://www.dropbox.com/s/raw/f3qaaadn8axihb3/CLASIFICADOS_2produccion.zip\n",
            "Reusing existing connection to www.dropbox.com:443.\n",
            "HTTP request sent, awaiting response... 302 Found\n",
            "Location: https://ucd4cc22b3e0d1020fc27b40ed39.dl.dropboxusercontent.com/cd/0/inline/A3MPjH1FPa8MAG-85MPVQK7DDsvfjcmOlnjzG-t_hzg63RTXbdVSHOWY11iexR4o79f9LkU_lwngS-Uu9_v6H5KxU7OL8z3Y7j-m6zHOUWqRWcp27pDbiK3Mz_h9NTXt4As/file# [following]\n",
            "--2020-05-06 15:44:52--  https://ucd4cc22b3e0d1020fc27b40ed39.dl.dropboxusercontent.com/cd/0/inline/A3MPjH1FPa8MAG-85MPVQK7DDsvfjcmOlnjzG-t_hzg63RTXbdVSHOWY11iexR4o79f9LkU_lwngS-Uu9_v6H5KxU7OL8z3Y7j-m6zHOUWqRWcp27pDbiK3Mz_h9NTXt4As/file\n",
            "Resolving ucd4cc22b3e0d1020fc27b40ed39.dl.dropboxusercontent.com (ucd4cc22b3e0d1020fc27b40ed39.dl.dropboxusercontent.com)... 162.125.65.6, 2620:100:6021:6::a27d:4106\n",
            "Connecting to ucd4cc22b3e0d1020fc27b40ed39.dl.dropboxusercontent.com (ucd4cc22b3e0d1020fc27b40ed39.dl.dropboxusercontent.com)|162.125.65.6|:443... connected.\n",
            "HTTP request sent, awaiting response... 302 FOUND\n",
            "Location: /cd/0/inline2/A3PQ4XMGiuKBHQYbBwNT-biBTqL1XxlGFDmhGHNchNJBqOZRn-wIq1pqVEE3ieSi3Q2Y3Zf6SEoQc6RzmR_9g_URNpl4_ZQrxDtEJFght7MyOZCrxsDMrw-E-OabeY3hHq2BOc9ySbWSmwcY1sE9xWWT_VY-uuuMOsygxW64iXRbKt2nbGIvoRyKWOb8SzRzNzPYCm5nznrWUE2J14To5AYCxiPepfhg02fpmmGWeDVT6w-TJ4a6M_Fymj3papLZsonXG6nOzvuTaUzRjYINugFFJpoajghyl-skXPStEtHeDbV7OvGqdfE3jGUyfvb3B4HQlnch5NBlJol0qWik1f6TSG8DrheripCyJc1LBUD6_w/file [following]\n",
            "--2020-05-06 15:44:52--  https://ucd4cc22b3e0d1020fc27b40ed39.dl.dropboxusercontent.com/cd/0/inline2/A3PQ4XMGiuKBHQYbBwNT-biBTqL1XxlGFDmhGHNchNJBqOZRn-wIq1pqVEE3ieSi3Q2Y3Zf6SEoQc6RzmR_9g_URNpl4_ZQrxDtEJFght7MyOZCrxsDMrw-E-OabeY3hHq2BOc9ySbWSmwcY1sE9xWWT_VY-uuuMOsygxW64iXRbKt2nbGIvoRyKWOb8SzRzNzPYCm5nznrWUE2J14To5AYCxiPepfhg02fpmmGWeDVT6w-TJ4a6M_Fymj3papLZsonXG6nOzvuTaUzRjYINugFFJpoajghyl-skXPStEtHeDbV7OvGqdfE3jGUyfvb3B4HQlnch5NBlJol0qWik1f6TSG8DrheripCyJc1LBUD6_w/file\n",
            "Reusing existing connection to ucd4cc22b3e0d1020fc27b40ed39.dl.dropboxusercontent.com:443.\n",
            "HTTP request sent, awaiting response... 200 OK\n",
            "Length: 307059296 (293M) [application/zip]\n",
            "Saving to: ‘CLASIFICADOS_2produccion.zip?dl=0.2’\n",
            "\n",
            "CLASIFICADOS_2produ 100%[===================>] 292.83M  41.9MB/s    in 7.2s    \n",
            "\n",
            "2020-05-06 15:45:00 (40.7 MB/s) - ‘CLASIFICADOS_2produccion.zip?dl=0.2’ saved [307059296/307059296]\n",
            "\n",
            "--2020-05-06 15:45:00--  http://clasificados_2produccion.zip/\n",
            "Resolving clasificados_2produccion.zip (clasificados_2produccion.zip)... failed: Name or service not known.\n",
            "wget: unable to resolve host address ‘clasificados_2produccion.zip’\n",
            "FINISHED --2020-05-06 15:45:00--\n",
            "Total wall clock time: 9.0s\n",
            "Downloaded: 1 files, 293M in 7.2s (40.7 MB/s)\n",
            "Archive:  CLASIFICADOS_2produccion.zip?dl=0\n",
            "replace CLASIFICADOS_2produccion/.directory? [y]es, [n]o, [A]ll, [N]one, [r]ename: N\n"
          ],
          "name": "stdout"
        }
      ]
    },
    {
      "cell_type": "code",
      "metadata": {
        "id": "3Bp_PDbAbrx7",
        "colab_type": "code",
        "colab": {
          "base_uri": "https://localhost:8080/",
          "height": 35
        },
        "outputId": "4513f6ae-5ebe-493a-cd06-5af8c93bb8c2"
      },
      "source": [
        "Traindf[0][0]"
      ],
      "execution_count": 31,
      "outputs": [
        {
          "output_type": "execute_result",
          "data": {
            "text/plain": [
              "'piedras/5/6086.jpg'"
            ]
          },
          "metadata": {
            "tags": []
          },
          "execution_count": 31
        }
      ]
    },
    {
      "cell_type": "code",
      "metadata": {
        "id": "zwalhrbjQF_j",
        "colab_type": "code",
        "colab": {
          "base_uri": "https://localhost:8080/",
          "height": 266
        },
        "outputId": "e959848d-3e35-4b19-b6ae-e3cc7b322047"
      },
      "source": [
        "# ahora testeamos los aciertos y equivocaciones de los algoritmos en los datasets\n",
        "\n",
        "import warnings\n",
        "warnings.filterwarnings('ignore')\n",
        "\n",
        "def testeaDFepoca(df,modelo,directorio):\n",
        "  acertados=0\n",
        "  testeados=0\n",
        "  for index, row in df.iterrows():    \n",
        "    if not('.directory' in str(row[0])):\n",
        "      pred_class,pred_idx,outputs=modelo.predict(open_image(directorio+row[0]))\n",
        "      if(str(pred_class)==str(row[1])):\n",
        "        acertados+=1\n",
        "      if(testeados % 50 ==0):\n",
        "        print(\"Espera un poco mas\")\n",
        "      testeados+=1\n",
        "  print(\"Acertados: \"+str(acertados)+ \" fallados: \"+str(testeados-acertados)+\n",
        "        \" accuracy: \"+str(acertados/(testeados)))\n",
        "\n",
        "testeaDFepoca(Traindf,learnBruta,'CLASIFICADOS_2produccion/')\n"
      ],
      "execution_count": 32,
      "outputs": [
        {
          "output_type": "stream",
          "text": [
            "Espera un poco mas\n",
            "Espera un poco mas\n",
            "Espera un poco mas\n",
            "Espera un poco mas\n",
            "Espera un poco mas\n",
            "Espera un poco mas\n",
            "Espera un poco mas\n",
            "Espera un poco mas\n",
            "Espera un poco mas\n",
            "Espera un poco mas\n",
            "Espera un poco mas\n",
            "Espera un poco mas\n",
            "Espera un poco mas\n",
            "Acertados: 575 fallados: 35 accuracy: 0.9426229508196722\n"
          ],
          "name": "stdout"
        }
      ]
    },
    {
      "cell_type": "code",
      "metadata": {
        "id": "Q1dOtvT0dqxb",
        "colab_type": "code",
        "colab": {
          "base_uri": "https://localhost:8080/",
          "height": 605
        },
        "outputId": "79dd0f41-59a7-4fc2-a5a2-5c580785cafb"
      },
      "source": [
        "!wget https://www.dropbox.com/s/64ags91s00oplpt/ImagenesTest.zip?dl=0 -O ImagenesTest.zip\n",
        "!unzip ImagenesTest.zip"
      ],
      "execution_count": 33,
      "outputs": [
        {
          "output_type": "stream",
          "text": [
            "--2020-05-06 15:46:48--  https://www.dropbox.com/s/64ags91s00oplpt/ImagenesTest.zip?dl=0\n",
            "Resolving www.dropbox.com (www.dropbox.com)... 162.125.65.1, 2620:100:601b:1::a27d:801\n",
            "Connecting to www.dropbox.com (www.dropbox.com)|162.125.65.1|:443... connected.\n",
            "HTTP request sent, awaiting response... 301 Moved Permanently\n",
            "Location: /s/raw/64ags91s00oplpt/ImagenesTest.zip [following]\n",
            "--2020-05-06 15:46:48--  https://www.dropbox.com/s/raw/64ags91s00oplpt/ImagenesTest.zip\n",
            "Reusing existing connection to www.dropbox.com:443.\n",
            "HTTP request sent, awaiting response... 302 Found\n",
            "Location: https://uc2f3407dd8f0cd27d091d037720.dl.dropboxusercontent.com/cd/0/inline/A3NX7WYjCoIIYbRsZQNq1JeB2ty_FjXr8bf2DNJ609uh7xhMOagulgPEqmMk4IRGLaeT37OzM_fWc0qkU8uiy3a378ZhlPoPiQJCvsQXtjtCjWbpu_2xXmzQx3ob6T_jM38/file# [following]\n",
            "--2020-05-06 15:46:48--  https://uc2f3407dd8f0cd27d091d037720.dl.dropboxusercontent.com/cd/0/inline/A3NX7WYjCoIIYbRsZQNq1JeB2ty_FjXr8bf2DNJ609uh7xhMOagulgPEqmMk4IRGLaeT37OzM_fWc0qkU8uiy3a378ZhlPoPiQJCvsQXtjtCjWbpu_2xXmzQx3ob6T_jM38/file\n",
            "Resolving uc2f3407dd8f0cd27d091d037720.dl.dropboxusercontent.com (uc2f3407dd8f0cd27d091d037720.dl.dropboxusercontent.com)... 162.125.65.6, 2620:100:6021:6::a27d:4106\n",
            "Connecting to uc2f3407dd8f0cd27d091d037720.dl.dropboxusercontent.com (uc2f3407dd8f0cd27d091d037720.dl.dropboxusercontent.com)|162.125.65.6|:443... connected.\n",
            "HTTP request sent, awaiting response... 302 FOUND\n",
            "Location: /cd/0/inline2/A3MpefxV-MYCJ9sBdl4sgQ9pgCZ8A3y81Ab598MAeb1rAjXK32zCjGgQyRtCDWDM9lqO5XWdjO801clfUxNwjlmTQTtVRbD9E-4i0QbRMtdlBdV3wh_FvkEtMZTsU0O3hEvPR1QNmIBpWvlWW6J3FzZeA42EQmZOixxhWj7JDInZ_c25uOWURPsGX-HsYcwp11UFLRbXByliemgYOCaGvdHcPWD3iM5hzSeHdRHihFga22Vi8jG3YxuEP42-M9NJeQpWN_34NQpJnawPcs5fWdYlKOAp-hisCxJ1cDcpEjli5s_2icLkV6_8emXuFXu2S4n5r42cQN6uPujIC5Q4lKowLuhIqbmLk5cmtl-jgG3oUw/file [following]\n",
            "--2020-05-06 15:46:49--  https://uc2f3407dd8f0cd27d091d037720.dl.dropboxusercontent.com/cd/0/inline2/A3MpefxV-MYCJ9sBdl4sgQ9pgCZ8A3y81Ab598MAeb1rAjXK32zCjGgQyRtCDWDM9lqO5XWdjO801clfUxNwjlmTQTtVRbD9E-4i0QbRMtdlBdV3wh_FvkEtMZTsU0O3hEvPR1QNmIBpWvlWW6J3FzZeA42EQmZOixxhWj7JDInZ_c25uOWURPsGX-HsYcwp11UFLRbXByliemgYOCaGvdHcPWD3iM5hzSeHdRHihFga22Vi8jG3YxuEP42-M9NJeQpWN_34NQpJnawPcs5fWdYlKOAp-hisCxJ1cDcpEjli5s_2icLkV6_8emXuFXu2S4n5r42cQN6uPujIC5Q4lKowLuhIqbmLk5cmtl-jgG3oUw/file\n",
            "Reusing existing connection to uc2f3407dd8f0cd27d091d037720.dl.dropboxusercontent.com:443.\n",
            "HTTP request sent, awaiting response... 200 OK\n",
            "Length: 10134178 (9.7M) [application/zip]\n",
            "Saving to: ‘ImagenesTest.zip?dl=0.2’\n",
            "\n",
            "ImagenesTest.zip?dl 100%[===================>]   9.66M  --.-KB/s    in 0.09s   \n",
            "\n",
            "2020-05-06 15:46:49 (106 MB/s) - ‘ImagenesTest.zip?dl=0.2’ saved [10134178/10134178]\n",
            "\n",
            "--2020-05-06 15:46:49--  http://imagenestest.zip/\n",
            "Resolving imagenestest.zip (imagenestest.zip)... failed: Name or service not known.\n",
            "wget: unable to resolve host address ‘imagenestest.zip’\n",
            "FINISHED --2020-05-06 15:46:49--\n",
            "Total wall clock time: 1.8s\n",
            "Downloaded: 1 files, 9.7M in 0.09s (106 MB/s)\n",
            "Archive:  ImagenesTest.zip?dl=0\n",
            "replace ImagenesTest/crucesPortavelasCampanas/1/95ab913553eb6216ff067fa468b16d62.jpg? [y]es, [n]o, [A]ll, [N]one, [r]ename: N\n"
          ],
          "name": "stdout"
        }
      ]
    },
    {
      "cell_type": "code",
      "metadata": {
        "id": "ynmhy9ccdUs0",
        "colab_type": "code",
        "colab": {
          "base_uri": "https://localhost:8080/",
          "height": 70
        },
        "outputId": "650da8b1-07c0-4107-c6d3-53b5b86d8e44"
      },
      "source": [
        "testeaDFepoca(Testdf,learnBruta,'ImagenesTest/')\n",
        "# vemos que la efectividad ha bajado mucho, la naturaleza del problema es excesivamente complicada\n",
        "# teniendo en cuenta esto el resultado no ha sido tan malo"
      ],
      "execution_count": 34,
      "outputs": [
        {
          "output_type": "stream",
          "text": [
            "Espera un poco mas\n",
            "Espera un poco mas\n",
            "Acertados: 29 fallados: 26 accuracy: 0.5272727272727272\n"
          ],
          "name": "stdout"
        }
      ]
    },
    {
      "cell_type": "code",
      "metadata": {
        "id": "aqr_nYnvhmYW",
        "colab_type": "code",
        "colab": {
          "base_uri": "https://localhost:8080/",
          "height": 70
        },
        "outputId": "5456c8db-03f2-488c-b365-ff2ccde9be5a"
      },
      "source": [
        "def testeaDFtipo(df,modelo,directorio):\n",
        "  acertados=0\n",
        "  testeados=0\n",
        "  for index, row in df.iterrows(): \n",
        "    if not('.directory' in str(row[0])):\n",
        "      pred_class,pred_idx,outputs=modelo.predict(open_image(directorio+row[0]))\n",
        "      if(str(pred_class)==str(row[2])): # lo comparamos con el tipo\n",
        "        acertados+=1\n",
        "      if(testeados % 50 ==0):\n",
        "        print(\"Espera un poco mas\")\n",
        "      testeados+=1\n",
        "  print(\"Acertados: \"+str(acertados)+ \" fallados: \"+str(testeados-acertados)+\n",
        "        \" accuracy: \"+str(acertados/(testeados)))\n",
        "\n",
        "testeaDFtipo(Testdf,learnGeneral,'ImagenesTest/')\n",
        "# no sale mal el tipo"
      ],
      "execution_count": 41,
      "outputs": [
        {
          "output_type": "stream",
          "text": [
            "Espera un poco mas\n",
            "Espera un poco mas\n",
            "Acertados: 39 fallados: 16 accuracy: 0.7090909090909091\n"
          ],
          "name": "stdout"
        }
      ]
    },
    {
      "cell_type": "code",
      "metadata": {
        "id": "GYkYU6zoroW_",
        "colab_type": "code",
        "colab": {
          "base_uri": "https://localhost:8080/",
          "height": 266
        },
        "outputId": "f5e3681e-15f1-47ce-f2d3-9fad95b02b45"
      },
      "source": [
        "testeaDFtipo(Traindf,learnGeneral,'CLASIFICADOS_2produccion/')\n",
        "# sale muy bien con el entrenamiento, tal vez sospechosamente alto"
      ],
      "execution_count": 42,
      "outputs": [
        {
          "output_type": "stream",
          "text": [
            "Espera un poco mas\n",
            "Espera un poco mas\n",
            "Espera un poco mas\n",
            "Espera un poco mas\n",
            "Espera un poco mas\n",
            "Espera un poco mas\n",
            "Espera un poco mas\n",
            "Espera un poco mas\n",
            "Espera un poco mas\n",
            "Espera un poco mas\n",
            "Espera un poco mas\n",
            "Espera un poco mas\n",
            "Espera un poco mas\n",
            "Acertados: 592 fallados: 18 accuracy: 0.9704918032786886\n"
          ],
          "name": "stdout"
        }
      ]
    },
    {
      "cell_type": "code",
      "metadata": {
        "id": "muEVXmKCsOy7",
        "colab_type": "code",
        "colab": {
          "base_uri": "https://localhost:8080/",
          "height": 70
        },
        "outputId": "422eea2b-217f-46a4-b1ec-fe24a0f2e26d"
      },
      "source": [
        "def testeaDFedad_mediante_tipo(df,modelo,directorio):\n",
        "  acertados=0\n",
        "  testeados=0\n",
        "  for index, row in df.iterrows(): \n",
        "    if not('.directory' in str(row[0])):\n",
        "      pred_class,pred_idx,outputs=modelo.predict(open_image(directorio+row[0]))\n",
        "      if(str(pred_class)==str(row[2])): # lo comparamos con el tipo\n",
        "        if str(pred_class)=='crucesPortavelasCampanas':\n",
        "          pred_class,pred_idx,outputs=learnCrucesPortavelasCampanas.predict(open_image(directorio+row[0]))\n",
        "          if(str(pred_class)==str(row[1])):\n",
        "            acertados+=1\n",
        "        if str(pred_class)=='enganches':\n",
        "          pred_class,pred_idx,outputs=learnEnganches.predict(open_image(directorio+row[0]))\n",
        "          if(str(pred_class)==str(row[1])):\n",
        "            acertados+=1\n",
        "        if str(pred_class)=='estatuas':\n",
        "          pred_class,pred_idx,outputs=learnEstatuas.predict(open_image(directorio+row[0]))\n",
        "          if(str(pred_class)==str(row[1])):\n",
        "            acertados+=1\n",
        "        if str(pred_class)=='pesosMonedas':\n",
        "          pred_class,pred_idx,outputs=learnPesosMonedas.predict(open_image(directorio+row[0]))\n",
        "          if(str(pred_class)==str(row[1])):\n",
        "            acertados+=1\n",
        "        if str(pred_class)=='piedras':\n",
        "          pred_class,pred_idx,outputs=learnPiedras.predict(open_image(directorio+row[0]))\n",
        "          if(str(pred_class)==str(row[1])):\n",
        "            acertados+=1\n",
        "        if str(pred_class)=='pinturas':\n",
        "          pred_class,pred_idx,outputs=learnPinturas.predict(open_image(directorio+row[0]))\n",
        "          if(str(pred_class)==str(row[1])):\n",
        "            acertados+=1\n",
        "        if str(pred_class)=='recipientes':\n",
        "          pred_class,pred_idx,outputs=learnRecipientes.predict(open_image(directorio+row[0]))\n",
        "          if(str(pred_class)==str(row[1])):\n",
        "            acertados+=1\n",
        "        if str(pred_class)=='ropaTelas':\n",
        "          pred_class,pred_idx,outputs=learnRopatelas.predict(open_image(directorio+row[0]))\n",
        "          if(str(pred_class)==str(row[1])):\n",
        "            acertados+=1\n",
        "        if str(pred_class)=='utensiliosAgricultura':\n",
        "          pred_class,pred_idx,outputs=learnUtensiliosAgricultura.predict(open_image(directorio+row[0]))\n",
        "          if(str(pred_class)==str(row[1])):\n",
        "            acertados+=1\n",
        "      if(testeados % 50 ==0):\n",
        "        print(\"Espera un poco mas\")\n",
        "      testeados+=1\n",
        "  print(\"Acertados: \"+str(acertados)+ \" fallados: \"+str(testeados-acertados)+\n",
        "        \" accuracy: \"+str(acertados/(testeados)))\n",
        "  \n",
        "testeaDFedad_mediante_tipo(Testdf,learnGeneral,'ImagenesTest/')  \n"
      ],
      "execution_count": 43,
      "outputs": [
        {
          "output_type": "stream",
          "text": [
            "Espera un poco mas\n",
            "Espera un poco mas\n",
            "Acertados: 9 fallados: 46 accuracy: 0.16363636363636364\n"
          ],
          "name": "stdout"
        }
      ]
    }
  ]
}