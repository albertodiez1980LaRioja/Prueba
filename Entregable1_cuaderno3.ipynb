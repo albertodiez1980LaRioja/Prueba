{
  "nbformat": 4,
  "nbformat_minor": 0,
  "metadata": {
    "colab": {
      "name": "Entregable1_cuaderno3.ipynb",
      "provenance": [],
      "authorship_tag": "ABX9TyPd8+Bxd/2uNoih5crf3Niv",
      "include_colab_link": true
    },
    "kernelspec": {
      "name": "python3",
      "display_name": "Python 3"
    }
  },
  "cells": [
    {
      "cell_type": "markdown",
      "metadata": {
        "id": "view-in-github",
        "colab_type": "text"
      },
      "source": [
        "<a href=\"https://colab.research.google.com/github/albertodiez1980LaRioja/Prueba/blob/master/Entregable1_cuaderno3.ipynb\" target=\"_parent\"><img src=\"https://colab.research.google.com/assets/colab-badge.svg\" alt=\"Open In Colab\"/></a>"
      ]
    },
    {
      "cell_type": "code",
      "metadata": {
        "id": "CRfCgqrdNKky",
        "colab_type": "code",
        "colab": {}
      },
      "source": [
        "# En este cuaderno finalmente entrenaremos el dataset\n",
        "\n",
        "import numpy as np\n",
        "import pandas as pd\n",
        "from sklearn.neighbors import KNeighborsClassifier\n",
        "traindf = pd.read_csv(\"train.csv\")\n",
        "testdf = pd.read_csv(\"test.csv\")\n",
        "# separamos los descriptores de clases\n",
        "traindata = traindf.values\n",
        "descriptores,clases = traindata[:,0:-1],traindata[:,-1]\n",
        "\n",
        "\n",
        "# hacemos una particion\n",
        "from sklearn.model_selection import train_test_split\n",
        "X =  traindf.values[:,:-1]\n",
        "Y =  traindf.values[:,-1]\n",
        "(trainData, testData, trainLabels, testLabels) = train_test_split(X,Y,test_size=0.20, random_state=42)\n",
        "# NOTA: trainData y testData es usado en el metodo randomsearch"
      ],
      "execution_count": 0,
      "outputs": []
    },
    {
      "cell_type": "code",
      "metadata": {
        "id": "Bzkc0n7wM-8T",
        "colab_type": "code",
        "colab": {}
      },
      "source": [
        "# quitamos los warnings\n",
        "import warnings; warnings.simplefilter('ignore')"
      ],
      "execution_count": 0,
      "outputs": []
    },
    {
      "cell_type": "code",
      "metadata": {
        "id": "ArD7xLugNPp3",
        "colab_type": "code",
        "colab": {}
      },
      "source": [
        "# ponemos el metodo para encontrar los hiperparametros optimos, \n",
        "# usaremos randomsearch y k-fold para no esperar demasiado\n",
        "\n",
        "\n",
        "from sklearn.model_selection import RandomizedSearchCV\n",
        "from scipy.stats import randint as sp_randint\n",
        "\n",
        "def randomsearch(model,parameters):\n",
        "    #print(\"# Tuning hyper-parameters for %s\" % score)\n",
        "    print()\n",
        "\n",
        "    clf = RandomizedSearchCV(model, parameters,cv=5)\n",
        "    clf.fit(trainData, trainLabels)\n",
        "\n",
        "    print(\"Best parameters set found on development set:\")\n",
        "    print()\n",
        "    print(clf.best_params_)\n",
        "    print()"
      ],
      "execution_count": 0,
      "outputs": []
    },
    {
      "cell_type": "code",
      "metadata": {
        "id": "YoVCvjxQNnXs",
        "colab_type": "code",
        "colab": {
          "base_uri": "https://localhost:8080/",
          "height": 70
        },
        "outputId": "821e266b-9477-4261-818d-de2a1846844d"
      },
      "source": [
        "from sklearn.svm import SVC\n",
        "modelSVM = SVC()\n",
        "tuned_parameters = [{'kernel': ['sigmoid'], 'gamma': [2, 3],\n",
        "                     'C': [0.1,1, 10]},\n",
        "                    {'kernel': ['linear'], 'C': [1, 10, 100, 1000]}]\n",
        "import time\n",
        "%time\n",
        "randomsearch(modelSVM, {'kernel': ['sigmoid','linear'], \n",
        "                        'gamma': sp_randint(2, 20), 'C': sp_randint(0.1, 100)})\n",
        "\n"
      ],
      "execution_count": 0,
      "outputs": [
        {
          "output_type": "stream",
          "text": [
            "CPU times: user 4 µs, sys: 1e+03 ns, total: 5 µs\n",
            "Wall time: 149 µs\n",
            "\n"
          ],
          "name": "stdout"
        }
      ]
    },
    {
      "cell_type": "code",
      "metadata": {
        "id": "SZK0cQOMPJIk",
        "colab_type": "code",
        "colab": {}
      },
      "source": [
        "from sklearn.tree import DecisionTreeClassifier\n",
        "modelArbol = DecisionTreeClassifier(random_state=84)\n",
        "tuned_parameters = [{'criterion': ['gini', 'entropy']}]\n",
        "randomsearch(modelArbol,tuned_parameters)"
      ],
      "execution_count": 0,
      "outputs": []
    },
    {
      "cell_type": "code",
      "metadata": {
        "id": "w2dxMekmPQkx",
        "colab_type": "code",
        "colab": {}
      },
      "source": [
        "# regresion logistica\n",
        "from sklearn.linear_model import LogisticRegression\n",
        "modelLR = LogisticRegression(random_state=84)\n",
        "tuned_parameters = [{'penalty': ['l1', 'l2','elasticnet','none'],\n",
        "                     'dual':[True,False],'C':[0.7,0.8,0.9,1,1.1,1.2,1.3],\n",
        "                     'fit_intercept':[True,False],\n",
        "                     'solver':['newton-cg', 'lbfgs', 'liblinear', 'sag', 'saga'],\n",
        "                     'max_iter':[50,100,200,400,1000],\n",
        "                     'multi_class':['auto','ovr','multinomial']}]\n",
        "randomsearch(modelLR,tuned_parameters)"
      ],
      "execution_count": 0,
      "outputs": []
    },
    {
      "cell_type": "code",
      "metadata": {
        "id": "CW5MXIHyP0UI",
        "colab_type": "code",
        "colab": {}
      },
      "source": [
        "from sklearn.svm import SVC\n",
        "modelSVM = SVC()\n",
        "tuned_parameters = [{'kernel': ['linear', 'sigmoid'],\n",
        "                     'C':[0.2,0.3,0.4],\n",
        "                     'gamma':['scale','auto']\n",
        "                     }]\n",
        "randomsearch(modelSVM,tuned_parameters)"
      ],
      "execution_count": 0,
      "outputs": []
    },
    {
      "cell_type": "code",
      "metadata": {
        "id": "UCL3SsHcP3-p",
        "colab_type": "code",
        "colab": {}
      },
      "source": [
        "# redes neuronales\n",
        "from sklearn.linear_model import Perceptron\n",
        "modelPerceptron = Perceptron()\n",
        "tuned_parameters = [{'alpha': [0.00011,0.0001,0.00012],'max_iter':[10,100,1000],'eta0':[1.0,0.9,1.1]}]\n",
        "randomsearch(modelPerceptron,tuned_parameters)"
      ],
      "execution_count": 0,
      "outputs": []
    }
  ]
}